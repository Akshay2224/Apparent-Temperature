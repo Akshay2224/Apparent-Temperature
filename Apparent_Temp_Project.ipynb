{
  "nbformat": 4,
  "nbformat_minor": 0,
  "metadata": {
    "colab": {
      "name": "Apparent_Temp_Project.ipynb",
      "version": "0.3.2",
      "provenance": [],
      "include_colab_link": true
    },
    "kernelspec": {
      "name": "python3",
      "display_name": "Python 3"
    }
  },
  "cells": [
    {
      "cell_type": "markdown",
      "metadata": {
        "id": "view-in-github",
        "colab_type": "text"
      },
      "source": [
        "<a href=\"https://colab.research.google.com/github/Akshay2224/Apparent-Temperature/blob/master/Apparent_Temp_Project.ipynb\" target=\"_parent\"><img src=\"https://colab.research.google.com/assets/colab-badge.svg\" alt=\"Open In Colab\"/></a>"
      ]
    },
    {
      "cell_type": "markdown",
      "metadata": {
        "id": "3AfLY4-Zozsz",
        "colab_type": "text"
      },
      "source": [
        " <u><h1 style='font-size:45px; text-align:center'><font color =white>Apparent   </font><font color = white>    Temperature </font></h1></u>"
      ]
    },
    {
      "cell_type": "markdown",
      "metadata": {
        "id": "34VG2p35tTbQ",
        "colab_type": "text"
      },
      "source": [
        "##<u>What is Apparent Temperature ?</u>\n",
        "####Apparent temperature is the temperature equivalent perceived by humans, caused by the combined effects of air temperature, relative humidity and wind #### speed. The measure is most commonly applied to the perceived outdoor temperature.In simple words ,It is the temperature that it feels like to our body because of other weather variables other than temperature. This is generally higher in case of high humidity.          "
      ]
    },
    {
      "cell_type": "markdown",
      "metadata": {
        "id": "NhvJludtubgh",
        "colab_type": "text"
      },
      "source": [
        "##<u>Project Statement</u>\n",
        "\n",
        "####This project is a programming assignment wherein you have to make an EDA report to analyse the factors affecting the apparent temperature given other weather variables in an hourly manner."
      ]
    },
    {
      "cell_type": "code",
      "metadata": {
        "id": "7wakzcjlwjUk",
        "colab_type": "code",
        "colab": {}
      },
      "source": [
        "#Importing necessary Libraries\n",
        "import pandas as pd #used for opening file \n",
        "import numpy as np #for linear Algebra\n",
        "import seaborn as sns #for data visualization\n",
        "import matplotlib.pyplot as plt #for data visualization"
      ],
      "execution_count": 0,
      "outputs": []
    },
    {
      "cell_type": "code",
      "metadata": {
        "id": "5V6Hm2tbxN_f",
        "colab_type": "code",
        "colab": {}
      },
      "source": [
        "#Opening a File by read_csv function under pandas library\n",
        "df=pd.read_csv('https://github.com/Akshay2224/Apparent-Temperature/raw/master/weather_data.csv')"
      ],
      "execution_count": 0,
      "outputs": []
    },
    {
      "cell_type": "code",
      "metadata": {
        "id": "PwuWIrk65GeN",
        "colab_type": "code",
        "colab": {
          "base_uri": "https://localhost:8080/",
          "height": 35
        },
        "outputId": "01aa7fcd-508e-4185-a4a0-8f26eb518240"
      },
      "source": [
        "#lets look towards the number of rows and columns in the datset\n",
        "df.shape"
      ],
      "execution_count": 221,
      "outputs": [
        {
          "output_type": "execute_result",
          "data": {
            "text/plain": [
              "(5999, 12)"
            ]
          },
          "metadata": {
            "tags": []
          },
          "execution_count": 221
        }
      ]
    },
    {
      "cell_type": "markdown",
      "metadata": {
        "id": "tdTZq15R5Sah",
        "colab_type": "text"
      },
      "source": [
        "####So it looks from the above analysis that we are having 5999 rows and 12 columns"
      ]
    },
    {
      "cell_type": "markdown",
      "metadata": {
        "id": "7xKxH7owyEFn",
        "colab_type": "text"
      },
      "source": [
        "##<u>Data Description</u>\n",
        "#### The data set contains 6000 entries with 12 columns listing various environment variables and text descriptions. The CSV file includes an hourly/daily  summary for Szeged, Hungary area, between 2006 and 2008. \n",
        "\n",
        "###<u>Szeged,Hungary</u>\n",
        "####Szeged is the third largest city of Hungary, the largest city and regional centre of the Southern Great Plain and the county seat of Csongrád county. The University of Szeged is one of the most distinguished universities in Hungary.Szeged is the third-most-populous city / town of Hungary by population (168,048)\n",
        "![alt text](https://upload.wikimedia.org/wikipedia/commons/thumb/a/ac/Szeged%2C_Tisza_river_bank%2C_with_Mora_Museum%2C_and_the_Theatre_building.jpg/1920px-Szeged%2C_Tisza_river_bank%2C_with_Mora_Museum%2C_and_the_Theatre_building.jpg)"
      ]
    },
    {
      "cell_type": "markdown",
      "metadata": {
        "id": "qUUpbFl703iO",
        "colab_type": "text"
      },
      "source": [
        "###<u>Attribute Description</u>\n",
        "#### 1. time -Time at which the observation is recorded\n",
        "#### 2. summary -It describes the summary of the weather\n",
        "#### 3. precipType -It describes the form of precipitation\n",
        "#### 4. temperature -it describes the actual tempertaure that was recorded at that time .It is calculated in degree celsius.\n",
        "#### 5. apparentTemperature -It describes the apparent temperature that was calculated at that time..It is calculated in degree celsius.\n",
        "#### 6. humidity -It describes the Humidity.\n",
        "#### 7. windSpeed-It desribes the windspeed..It is calculated in Kilometres/hour,\n",
        "#### 8. windBearing- It describes the degree toward which the wind is blowing.\n",
        "#### 9. visibility-It descibes the distance upto which it is visible by a naked eye.It is calculated in Kilometres.\n",
        "#### 10.loudCover-It describes the cloud cover.\n",
        "#### 11. pressure-It describes about the pressure .It is calculated in Milibars."
      ]
    },
    {
      "cell_type": "code",
      "metadata": {
        "id": "BV7YQ-WLx6JY",
        "colab_type": "code",
        "colab": {
          "base_uri": "https://localhost:8080/",
          "height": 405
        },
        "outputId": "e94a33c8-e055-4ee5-a888-20acfe46cfc2"
      },
      "source": [
        "#Lets head toward looking of first five rows of datasets.\n",
        "df.head()"
      ],
      "execution_count": 222,
      "outputs": [
        {
          "output_type": "execute_result",
          "data": {
            "text/html": [
              "<div>\n",
              "<style scoped>\n",
              "    .dataframe tbody tr th:only-of-type {\n",
              "        vertical-align: middle;\n",
              "    }\n",
              "\n",
              "    .dataframe tbody tr th {\n",
              "        vertical-align: top;\n",
              "    }\n",
              "\n",
              "    .dataframe thead th {\n",
              "        text-align: right;\n",
              "    }\n",
              "</style>\n",
              "<table border=\"1\" class=\"dataframe\">\n",
              "  <thead>\n",
              "    <tr style=\"text-align: right;\">\n",
              "      <th></th>\n",
              "      <th>Formatted Date</th>\n",
              "      <th>Summary</th>\n",
              "      <th>Precip Type</th>\n",
              "      <th>Temperature (C)</th>\n",
              "      <th>Apparent Temperature (C)</th>\n",
              "      <th>Humidity</th>\n",
              "      <th>Wind Speed (km/h)</th>\n",
              "      <th>Wind Bearing (degrees)</th>\n",
              "      <th>Visibility (km)</th>\n",
              "      <th>Loud Cover</th>\n",
              "      <th>Pressure (millibars)</th>\n",
              "      <th>Daily Summary</th>\n",
              "    </tr>\n",
              "  </thead>\n",
              "  <tbody>\n",
              "    <tr>\n",
              "      <th>0</th>\n",
              "      <td>2006-04-01 00:00:00.000 +0200</td>\n",
              "      <td>Partly Cloudy</td>\n",
              "      <td>rain</td>\n",
              "      <td>9.472222</td>\n",
              "      <td>7.388889</td>\n",
              "      <td>0.89</td>\n",
              "      <td>14.1197</td>\n",
              "      <td>251</td>\n",
              "      <td>15.8263</td>\n",
              "      <td>0</td>\n",
              "      <td>1015.13</td>\n",
              "      <td>Partly cloudy throughout the day.</td>\n",
              "    </tr>\n",
              "    <tr>\n",
              "      <th>1</th>\n",
              "      <td>2006-04-01 01:00:00.000 +0200</td>\n",
              "      <td>Partly Cloudy</td>\n",
              "      <td>rain</td>\n",
              "      <td>9.355556</td>\n",
              "      <td>7.227778</td>\n",
              "      <td>0.86</td>\n",
              "      <td>14.2646</td>\n",
              "      <td>259</td>\n",
              "      <td>15.8263</td>\n",
              "      <td>0</td>\n",
              "      <td>1015.63</td>\n",
              "      <td>Partly cloudy throughout the day.</td>\n",
              "    </tr>\n",
              "    <tr>\n",
              "      <th>2</th>\n",
              "      <td>2006-04-01 02:00:00.000 +0200</td>\n",
              "      <td>Mostly Cloudy</td>\n",
              "      <td>rain</td>\n",
              "      <td>9.377778</td>\n",
              "      <td>9.377778</td>\n",
              "      <td>0.89</td>\n",
              "      <td>3.9284</td>\n",
              "      <td>204</td>\n",
              "      <td>14.9569</td>\n",
              "      <td>0</td>\n",
              "      <td>1015.94</td>\n",
              "      <td>Partly cloudy throughout the day.</td>\n",
              "    </tr>\n",
              "    <tr>\n",
              "      <th>3</th>\n",
              "      <td>2006-04-01 03:00:00.000 +0200</td>\n",
              "      <td>Partly Cloudy</td>\n",
              "      <td>rain</td>\n",
              "      <td>8.288889</td>\n",
              "      <td>5.944444</td>\n",
              "      <td>0.83</td>\n",
              "      <td>14.1036</td>\n",
              "      <td>269</td>\n",
              "      <td>15.8263</td>\n",
              "      <td>0</td>\n",
              "      <td>1016.41</td>\n",
              "      <td>Partly cloudy throughout the day.</td>\n",
              "    </tr>\n",
              "    <tr>\n",
              "      <th>4</th>\n",
              "      <td>2006-04-01 04:00:00.000 +0200</td>\n",
              "      <td>Mostly Cloudy</td>\n",
              "      <td>rain</td>\n",
              "      <td>8.755556</td>\n",
              "      <td>6.977778</td>\n",
              "      <td>0.83</td>\n",
              "      <td>11.0446</td>\n",
              "      <td>259</td>\n",
              "      <td>15.8263</td>\n",
              "      <td>0</td>\n",
              "      <td>1016.51</td>\n",
              "      <td>Partly cloudy throughout the day.</td>\n",
              "    </tr>\n",
              "  </tbody>\n",
              "</table>\n",
              "</div>"
            ],
            "text/plain": [
              "                  Formatted Date  ...                      Daily Summary\n",
              "0  2006-04-01 00:00:00.000 +0200  ...  Partly cloudy throughout the day.\n",
              "1  2006-04-01 01:00:00.000 +0200  ...  Partly cloudy throughout the day.\n",
              "2  2006-04-01 02:00:00.000 +0200  ...  Partly cloudy throughout the day.\n",
              "3  2006-04-01 03:00:00.000 +0200  ...  Partly cloudy throughout the day.\n",
              "4  2006-04-01 04:00:00.000 +0200  ...  Partly cloudy throughout the day.\n",
              "\n",
              "[5 rows x 12 columns]"
            ]
          },
          "metadata": {
            "tags": []
          },
          "execution_count": 222
        }
      ]
    },
    {
      "cell_type": "markdown",
      "metadata": {
        "id": "fNckMXmFDoZx",
        "colab_type": "text"
      },
      "source": [
        "##<u>Some Stats about the Data</u>"
      ]
    },
    {
      "cell_type": "code",
      "metadata": {
        "id": "SzUCpnVvVv9V",
        "colab_type": "code",
        "colab": {
          "base_uri": "https://localhost:8080/",
          "height": 108
        },
        "outputId": "0b9bdef5-20f6-4903-db3e-ba415c07e00e"
      },
      "source": [
        "#To get the name of columns in the dataset.\n",
        "df.columns"
      ],
      "execution_count": 223,
      "outputs": [
        {
          "output_type": "execute_result",
          "data": {
            "text/plain": [
              "Index(['Formatted Date', 'Summary', 'Precip Type', 'Temperature (C)',\n",
              "       'Apparent Temperature (C)', 'Humidity', 'Wind Speed (km/h)',\n",
              "       'Wind Bearing (degrees)', 'Visibility (km)', 'Loud Cover',\n",
              "       'Pressure (millibars)', 'Daily Summary'],\n",
              "      dtype='object')"
            ]
          },
          "metadata": {
            "tags": []
          },
          "execution_count": 223
        }
      ]
    },
    {
      "cell_type": "code",
      "metadata": {
        "id": "TgMpgiNE4g5H",
        "colab_type": "code",
        "colab": {
          "base_uri": "https://localhost:8080/",
          "height": 288
        },
        "outputId": "9f66882c-3512-4e12-cf7c-3425bac1f549"
      },
      "source": [
        "#To get a description about the dataset\n",
        "df.describe().T"
      ],
      "execution_count": 224,
      "outputs": [
        {
          "output_type": "execute_result",
          "data": {
            "text/html": [
              "<div>\n",
              "<style scoped>\n",
              "    .dataframe tbody tr th:only-of-type {\n",
              "        vertical-align: middle;\n",
              "    }\n",
              "\n",
              "    .dataframe tbody tr th {\n",
              "        vertical-align: top;\n",
              "    }\n",
              "\n",
              "    .dataframe thead th {\n",
              "        text-align: right;\n",
              "    }\n",
              "</style>\n",
              "<table border=\"1\" class=\"dataframe\">\n",
              "  <thead>\n",
              "    <tr style=\"text-align: right;\">\n",
              "      <th></th>\n",
              "      <th>count</th>\n",
              "      <th>mean</th>\n",
              "      <th>std</th>\n",
              "      <th>min</th>\n",
              "      <th>25%</th>\n",
              "      <th>50%</th>\n",
              "      <th>75%</th>\n",
              "      <th>max</th>\n",
              "    </tr>\n",
              "  </thead>\n",
              "  <tbody>\n",
              "    <tr>\n",
              "      <th>Temperature (C)</th>\n",
              "      <td>5999.0</td>\n",
              "      <td>10.217695</td>\n",
              "      <td>10.565425</td>\n",
              "      <td>-14.088889</td>\n",
              "      <td>1.094444</td>\n",
              "      <td>10.0500</td>\n",
              "      <td>18.722222</td>\n",
              "      <td>34.005556</td>\n",
              "    </tr>\n",
              "    <tr>\n",
              "      <th>Apparent Temperature (C)</th>\n",
              "      <td>5999.0</td>\n",
              "      <td>8.958658</td>\n",
              "      <td>11.923712</td>\n",
              "      <td>-22.094444</td>\n",
              "      <td>-1.538889</td>\n",
              "      <td>10.0500</td>\n",
              "      <td>18.722222</td>\n",
              "      <td>36.400000</td>\n",
              "    </tr>\n",
              "    <tr>\n",
              "      <th>Humidity</th>\n",
              "      <td>5999.0</td>\n",
              "      <td>0.779488</td>\n",
              "      <td>0.173051</td>\n",
              "      <td>0.270000</td>\n",
              "      <td>0.680000</td>\n",
              "      <td>0.8300</td>\n",
              "      <td>0.920000</td>\n",
              "      <td>1.000000</td>\n",
              "    </tr>\n",
              "    <tr>\n",
              "      <th>Wind Speed (km/h)</th>\n",
              "      <td>5999.0</td>\n",
              "      <td>10.007362</td>\n",
              "      <td>6.536619</td>\n",
              "      <td>0.000000</td>\n",
              "      <td>4.878300</td>\n",
              "      <td>9.0643</td>\n",
              "      <td>13.395200</td>\n",
              "      <td>45.933300</td>\n",
              "    </tr>\n",
              "    <tr>\n",
              "      <th>Wind Bearing (degrees)</th>\n",
              "      <td>5999.0</td>\n",
              "      <td>190.349558</td>\n",
              "      <td>107.026792</td>\n",
              "      <td>0.000000</td>\n",
              "      <td>122.000000</td>\n",
              "      <td>190.0000</td>\n",
              "      <td>287.000000</td>\n",
              "      <td>359.000000</td>\n",
              "    </tr>\n",
              "    <tr>\n",
              "      <th>Visibility (km)</th>\n",
              "      <td>5999.0</td>\n",
              "      <td>9.476875</td>\n",
              "      <td>4.038583</td>\n",
              "      <td>0.000000</td>\n",
              "      <td>6.906900</td>\n",
              "      <td>9.9820</td>\n",
              "      <td>11.270000</td>\n",
              "      <td>16.100000</td>\n",
              "    </tr>\n",
              "    <tr>\n",
              "      <th>Loud Cover</th>\n",
              "      <td>5999.0</td>\n",
              "      <td>0.000000</td>\n",
              "      <td>0.000000</td>\n",
              "      <td>0.000000</td>\n",
              "      <td>0.000000</td>\n",
              "      <td>0.0000</td>\n",
              "      <td>0.000000</td>\n",
              "      <td>0.000000</td>\n",
              "    </tr>\n",
              "    <tr>\n",
              "      <th>Pressure (millibars)</th>\n",
              "      <td>5999.0</td>\n",
              "      <td>997.359828</td>\n",
              "      <td>145.173638</td>\n",
              "      <td>0.000000</td>\n",
              "      <td>1012.060000</td>\n",
              "      <td>1016.8400</td>\n",
              "      <td>1022.490000</td>\n",
              "      <td>1045.140000</td>\n",
              "    </tr>\n",
              "  </tbody>\n",
              "</table>\n",
              "</div>"
            ],
            "text/plain": [
              "                           count        mean  ...          75%          max\n",
              "Temperature (C)           5999.0   10.217695  ...    18.722222    34.005556\n",
              "Apparent Temperature (C)  5999.0    8.958658  ...    18.722222    36.400000\n",
              "Humidity                  5999.0    0.779488  ...     0.920000     1.000000\n",
              "Wind Speed (km/h)         5999.0   10.007362  ...    13.395200    45.933300\n",
              "Wind Bearing (degrees)    5999.0  190.349558  ...   287.000000   359.000000\n",
              "Visibility (km)           5999.0    9.476875  ...    11.270000    16.100000\n",
              "Loud Cover                5999.0    0.000000  ...     0.000000     0.000000\n",
              "Pressure (millibars)      5999.0  997.359828  ...  1022.490000  1045.140000\n",
              "\n",
              "[8 rows x 8 columns]"
            ]
          },
          "metadata": {
            "tags": []
          },
          "execution_count": 224
        }
      ]
    },
    {
      "cell_type": "markdown",
      "metadata": {
        "id": "qHE0iverSf8q",
        "colab_type": "text"
      },
      "source": [
        "####It is visible from the data that count is equal to number of rows.average temperature at Szeged is nearly eqaul to 10 degree celsius.We can also see that that maximum temperature which was recorded in szeged was 34 and minimun temperature was -14 degree celsius.\n",
        "\n",
        "####It is can be seen from above analysis that maximum wind speed is 46(approx.) km/hr whereas 10 km/hr is the minimum wind speed."
      ]
    },
    {
      "cell_type": "code",
      "metadata": {
        "id": "-qnLUYqaSOxU",
        "colab_type": "code",
        "colab": {
          "base_uri": "https://localhost:8080/",
          "height": 181
        },
        "outputId": "93524e75-06c7-4a34-fa7c-2d95b1108e5a"
      },
      "source": [
        "#To find the median values from the every columns of dataset.\n",
        "df.median()"
      ],
      "execution_count": 225,
      "outputs": [
        {
          "output_type": "execute_result",
          "data": {
            "text/plain": [
              "Temperature (C)               10.0500\n",
              "Apparent Temperature (C)      10.0500\n",
              "Humidity                       0.8300\n",
              "Wind Speed (km/h)              9.0643\n",
              "Wind Bearing (degrees)       190.0000\n",
              "Visibility (km)                9.9820\n",
              "Loud Cover                     0.0000\n",
              "Pressure (millibars)        1016.8400\n",
              "dtype: float64"
            ]
          },
          "metadata": {
            "tags": []
          },
          "execution_count": 225
        }
      ]
    },
    {
      "cell_type": "markdown",
      "metadata": {
        "id": "2s5tAWisD3iO",
        "colab_type": "text"
      },
      "source": [
        "####From the above analysis we can see that the mean and the median of the columns are nearly equal which means the data has less very skewness."
      ]
    },
    {
      "cell_type": "markdown",
      "metadata": {
        "id": "zzJ455k2WSIs",
        "colab_type": "text"
      },
      "source": [
        "##<u>Data Quality</u>"
      ]
    },
    {
      "cell_type": "markdown",
      "metadata": {
        "id": "XHcv6IEBXsS_",
        "colab_type": "text"
      },
      "source": [
        "####<u>Missing Values</u>"
      ]
    },
    {
      "cell_type": "code",
      "metadata": {
        "id": "JO0N7F5JDyRg",
        "colab_type": "code",
        "colab": {
          "base_uri": "https://localhost:8080/",
          "height": 254
        },
        "outputId": "291bbaf9-c598-4043-8c57-02130577d39c"
      },
      "source": [
        "#To check the missing values in the dataset\n",
        "df.isnull().sum()"
      ],
      "execution_count": 226,
      "outputs": [
        {
          "output_type": "execute_result",
          "data": {
            "text/plain": [
              "Formatted Date              0\n",
              "Summary                     0\n",
              "Precip Type                 0\n",
              "Temperature (C)             0\n",
              "Apparent Temperature (C)    0\n",
              "Humidity                    0\n",
              "Wind Speed (km/h)           0\n",
              "Wind Bearing (degrees)      0\n",
              "Visibility (km)             0\n",
              "Loud Cover                  0\n",
              "Pressure (millibars)        0\n",
              "Daily Summary               0\n",
              "dtype: int64"
            ]
          },
          "metadata": {
            "tags": []
          },
          "execution_count": 226
        }
      ]
    },
    {
      "cell_type": "markdown",
      "metadata": {
        "id": "z-rroQ4ZWxC4",
        "colab_type": "text"
      },
      "source": [
        "####So it is visible from the above data that there is no null data in any row of the column"
      ]
    },
    {
      "cell_type": "markdown",
      "metadata": {
        "id": "fsdOKHCeXxBb",
        "colab_type": "text"
      },
      "source": [
        "###<u>Datatypes used</u>"
      ]
    },
    {
      "cell_type": "code",
      "metadata": {
        "id": "yU5eicdVWvy1",
        "colab_type": "code",
        "colab": {
          "base_uri": "https://localhost:8080/",
          "height": 326
        },
        "outputId": "1e2896b6-fbf5-4be9-ba01-c5ef8a07a170"
      },
      "source": [
        "#To check the datatypes of dataset\n",
        "df.info()"
      ],
      "execution_count": 227,
      "outputs": [
        {
          "output_type": "stream",
          "text": [
            "<class 'pandas.core.frame.DataFrame'>\n",
            "RangeIndex: 5999 entries, 0 to 5998\n",
            "Data columns (total 12 columns):\n",
            "Formatted Date              5999 non-null object\n",
            "Summary                     5999 non-null object\n",
            "Precip Type                 5999 non-null object\n",
            "Temperature (C)             5999 non-null float64\n",
            "Apparent Temperature (C)    5999 non-null float64\n",
            "Humidity                    5999 non-null float64\n",
            "Wind Speed (km/h)           5999 non-null float64\n",
            "Wind Bearing (degrees)      5999 non-null int64\n",
            "Visibility (km)             5999 non-null float64\n",
            "Loud Cover                  5999 non-null int64\n",
            "Pressure (millibars)        5999 non-null float64\n",
            "Daily Summary               5999 non-null object\n",
            "dtypes: float64(6), int64(2), object(4)\n",
            "memory usage: 562.5+ KB\n"
          ],
          "name": "stdout"
        }
      ]
    },
    {
      "cell_type": "markdown",
      "metadata": {
        "id": "n5MVEQgzXCB8",
        "colab_type": "text"
      },
      "source": [
        "####So from above analysis we can see that there are 6 float type columns ,2 int type columns and 4 object type columns"
      ]
    },
    {
      "cell_type": "markdown",
      "metadata": {
        "id": "NtLToVsLX4Dh",
        "colab_type": "text"
      },
      "source": [
        "###<u>Unique Values in Columns</u>"
      ]
    },
    {
      "cell_type": "code",
      "metadata": {
        "id": "i7BBbrFnXARm",
        "colab_type": "code",
        "colab": {
          "base_uri": "https://localhost:8080/",
          "height": 254
        },
        "outputId": "95e5201c-eec4-4f85-b1c6-288d408099f3"
      },
      "source": [
        "#To check the number of unique values in each columns of dataset\n",
        "df.apply( lambda x: len(x.unique()))"
      ],
      "execution_count": 228,
      "outputs": [
        {
          "output_type": "execute_result",
          "data": {
            "text/plain": [
              "Formatted Date              5999\n",
              "Summary                       14\n",
              "Precip Type                    2\n",
              "Temperature (C)             3014\n",
              "Apparent Temperature (C)    3622\n",
              "Humidity                      74\n",
              "Wind Speed (km/h)           1444\n",
              "Wind Bearing (degrees)       357\n",
              "Visibility (km)              592\n",
              "Loud Cover                     1\n",
              "Pressure (millibars)        2637\n",
              "Daily Summary                 58\n",
              "dtype: int64"
            ]
          },
          "metadata": {
            "tags": []
          },
          "execution_count": 228
        }
      ]
    },
    {
      "cell_type": "markdown",
      "metadata": {
        "id": "lAnnw_JGXblz",
        "colab_type": "text"
      },
      "source": [
        "####So it is visible from above data that there are 2 types of precip_type and one cloud cover"
      ]
    },
    {
      "cell_type": "markdown",
      "metadata": {
        "id": "vAvmg64oYKbU",
        "colab_type": "text"
      },
      "source": [
        "##<u>Univariate Analysis</u>"
      ]
    },
    {
      "cell_type": "markdown",
      "metadata": {
        "id": "sBlf_nUHih0D",
        "colab_type": "text"
      },
      "source": [
        "###<u>Summary</u>"
      ]
    },
    {
      "cell_type": "code",
      "metadata": {
        "id": "vmJfk1UBl7Wp",
        "colab_type": "code",
        "colab": {
          "base_uri": "https://localhost:8080/",
          "height": 108
        },
        "outputId": "211aae49-c611-4ce5-ba33-b3862c045f41"
      },
      "source": [
        "#To get a description about the column summary.\n",
        "df['Summary'].describe()"
      ],
      "execution_count": 229,
      "outputs": [
        {
          "output_type": "execute_result",
          "data": {
            "text/plain": [
              "count              5999\n",
              "unique               14\n",
              "top       Partly Cloudy\n",
              "freq               1791\n",
              "Name: Summary, dtype: object"
            ]
          },
          "metadata": {
            "tags": []
          },
          "execution_count": 229
        }
      ]
    },
    {
      "cell_type": "markdown",
      "metadata": {
        "id": "EpYaVF0rmmyJ",
        "colab_type": "text"
      },
      "source": [
        "Here we can see that that there are 14 unique values and maximum frequency is of Partly Cloudy"
      ]
    },
    {
      "cell_type": "markdown",
      "metadata": {
        "id": "CWWhW8nilngW",
        "colab_type": "text"
      },
      "source": [
        "####To count the number of times a value has appeared in column Summary."
      ]
    },
    {
      "cell_type": "code",
      "metadata": {
        "id": "ZTvZay73XZve",
        "colab_type": "code",
        "colab": {
          "base_uri": "https://localhost:8080/",
          "height": 308
        },
        "outputId": "6b13cfa6-c59b-4591-afc8-b80515cb4765"
      },
      "source": [
        "df3=df.groupby('Summary').size()\n",
        "print(df3)"
      ],
      "execution_count": 230,
      "outputs": [
        {
          "output_type": "stream",
          "text": [
            "Summary\n",
            "Breezy and Foggy               7\n",
            "Breezy and Mostly Cloudy      20\n",
            "Breezy and Overcast           25\n",
            "Breezy and Partly Cloudy       7\n",
            "Clear                        853\n",
            "Foggy                        576\n",
            "Humid and Mostly Cloudy        6\n",
            "Humid and Partly Cloudy        3\n",
            "Mostly Cloudy               1473\n",
            "Overcast                    1230\n",
            "Partly Cloudy               1791\n",
            "Windy and Foggy                2\n",
            "Windy and Overcast             4\n",
            "Windy and Partly Cloudy        2\n",
            "dtype: int64\n"
          ],
          "name": "stdout"
        }
      ]
    },
    {
      "cell_type": "markdown",
      "metadata": {
        "id": "ASV0dSE3ma1B",
        "colab_type": "text"
      },
      "source": [
        "So we can see that that most of times the weather is Partly Cloudy and Mostly Cloudy."
      ]
    },
    {
      "cell_type": "code",
      "metadata": {
        "id": "OCZQtNQ7mZzH",
        "colab_type": "code",
        "colab": {
          "base_uri": "https://localhost:8080/",
          "height": 583
        },
        "outputId": "647f4536-6a6d-43f5-d22d-6ac57723be83"
      },
      "source": [
        "df3=df3.to_frame()\n",
        "p=df3.query('Summary==\"Clear\"') \n",
        "p2 =df3.query('Summary==\"Foggy\"')\n",
        "p3=df3.query('Summary==\"Windy and Foggy\"') \n",
        "p4 =df3.query('Summary==\"Windy and Overcast\"')\n",
        "p5=df3.query('Summary==\"Windy and Partly Cloudy\"') \n",
        "p6 =df3.query('Summary==\"Humid and Partly Cloudy\"')\n",
        "p7=df3.query('Summary==\"Humid and Mostly Cloudy\"') \n",
        "p8 =df3.query('Summary==\"Breezy and Partly Cloudy\"')\n",
        "p9=df3.query('Summary==\"Breezy and Overcast\"') \n",
        "p10 =df3.query('Summary==\"Breezy and Mostly Cloudy\"')\n",
        "p11=df3.query('Summary==\"Breezy and Foggy\"')\n",
        "p12=df3.query('Summary==\"Partly Cloudy\"')\n",
        "p13=df3.query('Summary==\"Mostly Cloudy\"')\n",
        "p14=df3.query('Summary==\"Overcast\"')\n",
        "p1=p2.sum()+p.sum()+p3.sum()+p4.sum()+p5.sum()+p6.sum()+p7.sum()+p8.sum()+p9.sum()+p10.sum()+p11.sum()\n",
        "p14=p14.sum()\n",
        "p12=p12.sum()\n",
        "p13=p13.sum()\n",
        "from matplotlib.pyplot import pie, axis, show\n",
        "df12 = pd.DataFrame({\n",
        "    'Summary': ['Partly Cloudy', 'Mostly Cloudy', 'Overcast','Rest'],\n",
        "    'Values': [p14,p13,p12,p1]})\n",
        "sums = df12.Values.groupby(df12.Summary).sum()\n",
        "plt.figure(figsize=(28,6))\n",
        "axis='equal'\n",
        "pie(sums, labels=sums.index,autopct='%1.1f%%')"
      ],
      "execution_count": 231,
      "outputs": [
        {
          "output_type": "execute_result",
          "data": {
            "text/plain": [
              "([<matplotlib.patches.Wedge at 0x7f75643dea58>,\n",
              "  <matplotlib.patches.Wedge at 0x7f75643e7198>,\n",
              "  <matplotlib.patches.Wedge at 0x7f75643e7898>,\n",
              "  <matplotlib.patches.Wedge at 0x7f75643e7f98>],\n",
              " [Text(0.7886369354169925, 0.7668453456180683, 'Mostly Cloudy'),\n",
              "  Text(-0.8683896512248944, 0.6752032387700065, 'Overcast'),\n",
              "  Text(-0.6653832115436118, -0.8759367453166406, 'Partly Cloudy'),\n",
              "  Text(0.7756760300546007, -0.7799530090965315, 'Rest')],\n",
              " [Text(0.43016560113654134, 0.41827927942803717, '24.6%'),\n",
              "  Text(-0.473667082486306, 0.3682926756927308, '29.9%'),\n",
              "  Text(-0.36293629720560644, -0.4777836792636221, '20.5%'),\n",
              "  Text(0.42309601639341854, -0.42542891405265354, '25.1%')])"
            ]
          },
          "metadata": {
            "tags": []
          },
          "execution_count": 231
        },
        {
          "output_type": "display_data",
          "data": {
            "image/png": "[encoded data removed]",
            "text/plain": [
              "<Figure size 2016x432 with 1 Axes>"
            ]
          },
          "metadata": {
            "tags": []
          }
        }
      ]
    },
    {
      "cell_type": "markdown",
      "metadata": {
        "id": "reUmUCX57bDy",
        "colab_type": "text"
      },
      "source": [
        "####Here We can see that approximate 75% of the Summary consists of only Overacast,Partly Cloudy,Mostly Cloudy.These is because Szeged is a city with a significant rainfall. Even in the driest month there is a lot of rain.\n"
      ]
    },
    {
      "cell_type": "markdown",
      "metadata": {
        "id": "531BLTaB85Ua",
        "colab_type": "text"
      },
      "source": [
        "###<u>Precip_Type</u>"
      ]
    },
    {
      "cell_type": "code",
      "metadata": {
        "id": "DFdwyV2np007",
        "colab_type": "code",
        "colab": {
          "base_uri": "https://localhost:8080/",
          "height": 108
        },
        "outputId": "4e3bec4f-3a01-4925-c4c1-5a3aff5dcc70"
      },
      "source": [
        "#To get the Description about the Precipitation Type \n",
        "df['Precip Type'].describe()"
      ],
      "execution_count": 232,
      "outputs": [
        {
          "output_type": "execute_result",
          "data": {
            "text/plain": [
              "count     5999\n",
              "unique       2\n",
              "top       rain\n",
              "freq      4762\n",
              "Name: Precip Type, dtype: object"
            ]
          },
          "metadata": {
            "tags": []
          },
          "execution_count": 232
        }
      ]
    },
    {
      "cell_type": "markdown",
      "metadata": {
        "id": "0HzwG8R1Aflj",
        "colab_type": "text"
      },
      "source": [
        "####Here we can see that there are only 2 types of unique Values in which rain is top value."
      ]
    },
    {
      "cell_type": "code",
      "metadata": {
        "id": "hTj0VfupC5VY",
        "colab_type": "code",
        "colab": {
          "base_uri": "https://localhost:8080/",
          "height": 72
        },
        "outputId": "016dcc0c-828b-49e3-95aa-b777bde1a64e"
      },
      "source": [
        "percentage=df['Precip Type'].value_counts()\n",
        "percent=100*(percentage/df['Precip Type'].value_counts().sum())\n",
        "percent"
      ],
      "execution_count": 236,
      "outputs": [
        {
          "output_type": "execute_result",
          "data": {
            "text/plain": [
              "rain    79.379897\n",
              "snow    20.620103\n",
              "Name: Precip Type, dtype: float64"
            ]
          },
          "metadata": {
            "tags": []
          },
          "execution_count": 236
        }
      ]
    },
    {
      "cell_type": "markdown",
      "metadata": {
        "id": "UsYSKeUADyEF",
        "colab_type": "text"
      },
      "source": [
        "####Here We can see that approx. 79% times rain happenend and 21% time Snow happenend"
      ]
    },
    {
      "cell_type": "code",
      "metadata": {
        "id": "AYTMn9xj9K3z",
        "colab_type": "code",
        "colab": {
          "base_uri": "https://localhost:8080/",
          "height": 302
        },
        "outputId": "960d4f45-5233-4074-dc03-a27d69fe062e"
      },
      "source": [
        "sns.countplot(df['Precip Type'])"
      ],
      "execution_count": 241,
      "outputs": [
        {
          "output_type": "execute_result",
          "data": {
            "text/plain": [
              "<matplotlib.axes._subplots.AxesSubplot at 0x7f75661e95c0>"
            ]
          },
          "metadata": {
            "tags": []
          },
          "execution_count": 241
        },
        {
          "output_type": "display_data",
          "data": {
            "image/png": "[encoded data removed]",
            "text/plain": [
              "<Figure size 432x288 with 1 Axes>"
            ]
          },
          "metadata": {
            "tags": []
          }
        }
      ]
    },
    {
      "cell_type": "markdown",
      "metadata": {
        "id": "-Pm594wpFnx_",
        "colab_type": "text"
      },
      "source": [
        "####We can see that rain occurs most of Time."
      ]
    },
    {
      "cell_type": "code",
      "metadata": {
        "id": "D1oFKNuMA70O",
        "colab_type": "code",
        "colab": {}
      },
      "source": [
        ""
      ],
      "execution_count": 0,
      "outputs": []
    }
  ]
}