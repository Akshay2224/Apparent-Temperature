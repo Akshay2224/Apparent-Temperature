{
  "nbformat": 4,
  "nbformat_minor": 0,
  "metadata": {
    "colab": {
      "name": "Apparent_Temp_Project.ipynb",
      "version": "0.3.2",
      "provenance": [],
      "include_colab_link": true
    },
    "kernelspec": {
      "name": "python3",
      "display_name": "Python 3"
    }
  },
  "cells": [
    {
      "cell_type": "markdown",
      "metadata": {
        "id": "view-in-github",
        "colab_type": "text"
      },
      "source": [
        "<a href=\"https://colab.research.google.com/github/Akshay2224/Apparent-Temperature/blob/master/Apparent_Temp_Project.ipynb\" target=\"_parent\"><img src=\"https://colab.research.google.com/assets/colab-badge.svg\" alt=\"Open In Colab\"/></a>"
      ]
    },
    {
      "cell_type": "markdown",
      "metadata": {
        "id": "3AfLY4-Zozsz",
        "colab_type": "text"
      },
      "source": [
        "#<u>Apparent Temperature</u>"
      ]
    },
    {
      "cell_type": "markdown",
      "metadata": {
        "id": "34VG2p35tTbQ",
        "colab_type": "text"
      },
      "source": [
        "##<u>What is Apparent Temperature ?</u>\n",
        "####Apparent temperature is the temperature equivalent perceived by humans, caused by the combined effects of air temperature, relative humidity and wind  speed. The measure is most commonly applied to the perceived outdoor temperature.In simple words ,It is the temperature that it feels like to our body because of other weather variables other than temperature. This is generally higher in case of high humidity.          "
      ]
    },
    {
      "cell_type": "markdown",
      "metadata": {
        "id": "NhvJludtubgh",
        "colab_type": "text"
      },
      "source": [
        "##<u>Project Statement</u>\n",
        "\n",
        "####This project is a programming assignment wherein you have to make an EDA report to analyse the factors affecting the apparent temperature given other weather variables in an hourly manner."
      ]
    },
    {
      "cell_type": "code",
      "metadata": {
        "id": "7wakzcjlwjUk",
        "colab_type": "code",
        "colab": {}
      },
      "source": [
        "#Importing necessary Libraries\n",
        "import pandas as pd #used for opening file \n",
        "import numpy as np #for linear Algebra\n",
        "import seaborn as sns #for data visualization\n",
        "from windrose import WindroseAxes #for data visualization\n",
        "import matplotlib.pyplot as plt #for data visualization"
      ],
      "execution_count": 0,
      "outputs": []
    },
    {
      "cell_type": "code",
      "metadata": {
        "id": "5V6Hm2tbxN_f",
        "colab_type": "code",
        "colab": {}
      },
      "source": [
        "#Opening a File by read_csv function under pandas library\n",
        "df=pd.read_csv('https://github.com/Akshay2224/Apparent-Temperature/raw/master/weather_data.csv')"
      ],
      "execution_count": 0,
      "outputs": []
    },
    {
      "cell_type": "code",
      "metadata": {
        "id": "PwuWIrk65GeN",
        "colab_type": "code",
        "outputId": "614b4c9c-3e8a-4f47-e70e-ef1b98c14e70",
        "colab": {
          "base_uri": "https://localhost:8080/",
          "height": 35
        }
      },
      "source": [
        "#lets look towards the number of rows and columns in the datset\n",
        "df.shape"
      ],
      "execution_count": 492,
      "outputs": [
        {
          "output_type": "execute_result",
          "data": {
            "text/plain": [
              "(5999, 12)"
            ]
          },
          "metadata": {
            "tags": []
          },
          "execution_count": 492
        }
      ]
    },
    {
      "cell_type": "markdown",
      "metadata": {
        "id": "tdTZq15R5Sah",
        "colab_type": "text"
      },
      "source": [
        "####So it looks from the above analysis that we are having 5999 rows and 12 columns"
      ]
    },
    {
      "cell_type": "markdown",
      "metadata": {
        "id": "7xKxH7owyEFn",
        "colab_type": "text"
      },
      "source": [
        "##<u>Data Description</u>\n",
        "#### The data set contains 6000 entries with 12 columns listing various environment variables and text descriptions. The CSV file includes an hourly/daily  summary for Szeged, Hungary area, between 2006 and 2008. \n",
        "\n",
        "###<u>Szeged,Hungary</u>\n",
        "####Szeged is the third largest city of Hungary, the largest city and regional centre of the Southern Great Plain and the county seat of Csongrád county. The University of Szeged is one of the most distinguished universities in Hungary.Szeged is the third-most-populous city / town of Hungary by population (168,048)\n",
        "![alt text](https://upload.wikimedia.org/wikipedia/commons/thumb/a/ac/Szeged%2C_Tisza_river_bank%2C_with_Mora_Museum%2C_and_the_Theatre_building.jpg/1920px-Szeged%2C_Tisza_river_bank%2C_with_Mora_Museum%2C_and_the_Theatre_building.jpg)"
      ]
    },
    {
      "cell_type": "markdown",
      "metadata": {
        "id": "qUUpbFl703iO",
        "colab_type": "text"
      },
      "source": [
        "###<u>Attribute Description</u>\n",
        "#### 1. time -Time at which the observation is recorded\n",
        "#### 2. summary -It describes the summary of the weather\n",
        "#### 3. precipType -It describes the form of precipitation\n",
        "#### 4. temperature -it describes the actual tempertaure that was recorded at that time .It is calculated in degree celsius.\n",
        "#### 5. apparentTemperature -It describes the apparent temperature that was calculated at that time..It is calculated in degree celsius.\n",
        "#### 6. humidity -It describes the Humidity.\n",
        "#### 7. windSpeed-It desribes the windspeed..It is calculated in Kilometres/hour,\n",
        "#### 8. windBearing- It describes the degree toward which the wind is blowing.\n",
        "#### 9. visibility-It descibes the distance upto which it is visible by a naked eye.It is calculated in Kilometres.\n",
        "#### 10.loudCover-It describes the cloud cover.\n",
        "#### 11. pressure-It describes about the pressure .It is calculated in Milibars."
      ]
    },
    {
      "cell_type": "code",
      "metadata": {
        "id": "BV7YQ-WLx6JY",
        "colab_type": "code",
        "outputId": "6b2f064a-4817-4c24-ed96-65e14220d221",
        "colab": {
          "base_uri": "https://localhost:8080/",
          "height": 405
        }
      },
      "source": [
        "#Lets head toward looking of first five rows of datasets.\n",
        "df.head()"
      ],
      "execution_count": 493,
      "outputs": [
        {
          "output_type": "execute_result",
          "data": {
            "text/html": [
              "<div>\n",
              "<style scoped>\n",
              "    .dataframe tbody tr th:only-of-type {\n",
              "        vertical-align: middle;\n",
              "    }\n",
              "\n",
              "    .dataframe tbody tr th {\n",
              "        vertical-align: top;\n",
              "    }\n",
              "\n",
              "    .dataframe thead th {\n",
              "        text-align: right;\n",
              "    }\n",
              "</style>\n",
              "<table border=\"1\" class=\"dataframe\">\n",
              "  <thead>\n",
              "    <tr style=\"text-align: right;\">\n",
              "      <th></th>\n",
              "      <th>Formatted Date</th>\n",
              "      <th>Summary</th>\n",
              "      <th>Precip Type</th>\n",
              "      <th>Temperature (C)</th>\n",
              "      <th>Apparent Temperature (C)</th>\n",
              "      <th>Humidity</th>\n",
              "      <th>Wind Speed (km/h)</th>\n",
              "      <th>Wind Bearing (degrees)</th>\n",
              "      <th>Visibility (km)</th>\n",
              "      <th>Loud Cover</th>\n",
              "      <th>Pressure (millibars)</th>\n",
              "      <th>Daily Summary</th>\n",
              "    </tr>\n",
              "  </thead>\n",
              "  <tbody>\n",
              "    <tr>\n",
              "      <th>0</th>\n",
              "      <td>2006-04-01 00:00:00.000 +0200</td>\n",
              "      <td>Partly Cloudy</td>\n",
              "      <td>rain</td>\n",
              "      <td>9.472222</td>\n",
              "      <td>7.388889</td>\n",
              "      <td>0.89</td>\n",
              "      <td>14.1197</td>\n",
              "      <td>251</td>\n",
              "      <td>15.8263</td>\n",
              "      <td>0</td>\n",
              "      <td>1015.13</td>\n",
              "      <td>Partly cloudy throughout the day.</td>\n",
              "    </tr>\n",
              "    <tr>\n",
              "      <th>1</th>\n",
              "      <td>2006-04-01 01:00:00.000 +0200</td>\n",
              "      <td>Partly Cloudy</td>\n",
              "      <td>rain</td>\n",
              "      <td>9.355556</td>\n",
              "      <td>7.227778</td>\n",
              "      <td>0.86</td>\n",
              "      <td>14.2646</td>\n",
              "      <td>259</td>\n",
              "      <td>15.8263</td>\n",
              "      <td>0</td>\n",
              "      <td>1015.63</td>\n",
              "      <td>Partly cloudy throughout the day.</td>\n",
              "    </tr>\n",
              "    <tr>\n",
              "      <th>2</th>\n",
              "      <td>2006-04-01 02:00:00.000 +0200</td>\n",
              "      <td>Mostly Cloudy</td>\n",
              "      <td>rain</td>\n",
              "      <td>9.377778</td>\n",
              "      <td>9.377778</td>\n",
              "      <td>0.89</td>\n",
              "      <td>3.9284</td>\n",
              "      <td>204</td>\n",
              "      <td>14.9569</td>\n",
              "      <td>0</td>\n",
              "      <td>1015.94</td>\n",
              "      <td>Partly cloudy throughout the day.</td>\n",
              "    </tr>\n",
              "    <tr>\n",
              "      <th>3</th>\n",
              "      <td>2006-04-01 03:00:00.000 +0200</td>\n",
              "      <td>Partly Cloudy</td>\n",
              "      <td>rain</td>\n",
              "      <td>8.288889</td>\n",
              "      <td>5.944444</td>\n",
              "      <td>0.83</td>\n",
              "      <td>14.1036</td>\n",
              "      <td>269</td>\n",
              "      <td>15.8263</td>\n",
              "      <td>0</td>\n",
              "      <td>1016.41</td>\n",
              "      <td>Partly cloudy throughout the day.</td>\n",
              "    </tr>\n",
              "    <tr>\n",
              "      <th>4</th>\n",
              "      <td>2006-04-01 04:00:00.000 +0200</td>\n",
              "      <td>Mostly Cloudy</td>\n",
              "      <td>rain</td>\n",
              "      <td>8.755556</td>\n",
              "      <td>6.977778</td>\n",
              "      <td>0.83</td>\n",
              "      <td>11.0446</td>\n",
              "      <td>259</td>\n",
              "      <td>15.8263</td>\n",
              "      <td>0</td>\n",
              "      <td>1016.51</td>\n",
              "      <td>Partly cloudy throughout the day.</td>\n",
              "    </tr>\n",
              "  </tbody>\n",
              "</table>\n",
              "</div>"
            ],
            "text/plain": [
              "                  Formatted Date  ...                      Daily Summary\n",
              "0  2006-04-01 00:00:00.000 +0200  ...  Partly cloudy throughout the day.\n",
              "1  2006-04-01 01:00:00.000 +0200  ...  Partly cloudy throughout the day.\n",
              "2  2006-04-01 02:00:00.000 +0200  ...  Partly cloudy throughout the day.\n",
              "3  2006-04-01 03:00:00.000 +0200  ...  Partly cloudy throughout the day.\n",
              "4  2006-04-01 04:00:00.000 +0200  ...  Partly cloudy throughout the day.\n",
              "\n",
              "[5 rows x 12 columns]"
            ]
          },
          "metadata": {
            "tags": []
          },
          "execution_count": 493
        }
      ]
    },
    {
      "cell_type": "markdown",
      "metadata": {
        "id": "fNckMXmFDoZx",
        "colab_type": "text"
      },
      "source": [
        "##<u>Some Stats about the Data</u>"
      ]
    },
    {
      "cell_type": "code",
      "metadata": {
        "id": "SzUCpnVvVv9V",
        "colab_type": "code",
        "outputId": "26a2f3c9-9f1a-4d4f-da02-f9f5ad776766",
        "colab": {
          "base_uri": "https://localhost:8080/",
          "height": 108
        }
      },
      "source": [
        "#To get the name of columns in the dataset.\n",
        "df.columns"
      ],
      "execution_count": 494,
      "outputs": [
        {
          "output_type": "execute_result",
          "data": {
            "text/plain": [
              "Index(['Formatted Date', 'Summary', 'Precip Type', 'Temperature (C)',\n",
              "       'Apparent Temperature (C)', 'Humidity', 'Wind Speed (km/h)',\n",
              "       'Wind Bearing (degrees)', 'Visibility (km)', 'Loud Cover',\n",
              "       'Pressure (millibars)', 'Daily Summary'],\n",
              "      dtype='object')"
            ]
          },
          "metadata": {
            "tags": []
          },
          "execution_count": 494
        }
      ]
    },
    {
      "cell_type": "code",
      "metadata": {
        "id": "TgMpgiNE4g5H",
        "colab_type": "code",
        "outputId": "52e12092-79f0-4645-9a40-c2bc4fb36a8d",
        "colab": {
          "base_uri": "https://localhost:8080/",
          "height": 288
        }
      },
      "source": [
        "#To get a description about the dataset\n",
        "df.describe().T"
      ],
      "execution_count": 495,
      "outputs": [
        {
          "output_type": "execute_result",
          "data": {
            "text/html": [
              "<div>\n",
              "<style scoped>\n",
              "    .dataframe tbody tr th:only-of-type {\n",
              "        vertical-align: middle;\n",
              "    }\n",
              "\n",
              "    .dataframe tbody tr th {\n",
              "        vertical-align: top;\n",
              "    }\n",
              "\n",
              "    .dataframe thead th {\n",
              "        text-align: right;\n",
              "    }\n",
              "</style>\n",
              "<table border=\"1\" class=\"dataframe\">\n",
              "  <thead>\n",
              "    <tr style=\"text-align: right;\">\n",
              "      <th></th>\n",
              "      <th>count</th>\n",
              "      <th>mean</th>\n",
              "      <th>std</th>\n",
              "      <th>min</th>\n",
              "      <th>25%</th>\n",
              "      <th>50%</th>\n",
              "      <th>75%</th>\n",
              "      <th>max</th>\n",
              "    </tr>\n",
              "  </thead>\n",
              "  <tbody>\n",
              "    <tr>\n",
              "      <th>Temperature (C)</th>\n",
              "      <td>5999.0</td>\n",
              "      <td>10.217695</td>\n",
              "      <td>10.565425</td>\n",
              "      <td>-14.088889</td>\n",
              "      <td>1.094444</td>\n",
              "      <td>10.0500</td>\n",
              "      <td>18.722222</td>\n",
              "      <td>34.005556</td>\n",
              "    </tr>\n",
              "    <tr>\n",
              "      <th>Apparent Temperature (C)</th>\n",
              "      <td>5999.0</td>\n",
              "      <td>8.958658</td>\n",
              "      <td>11.923712</td>\n",
              "      <td>-22.094444</td>\n",
              "      <td>-1.538889</td>\n",
              "      <td>10.0500</td>\n",
              "      <td>18.722222</td>\n",
              "      <td>36.400000</td>\n",
              "    </tr>\n",
              "    <tr>\n",
              "      <th>Humidity</th>\n",
              "      <td>5999.0</td>\n",
              "      <td>0.779488</td>\n",
              "      <td>0.173051</td>\n",
              "      <td>0.270000</td>\n",
              "      <td>0.680000</td>\n",
              "      <td>0.8300</td>\n",
              "      <td>0.920000</td>\n",
              "      <td>1.000000</td>\n",
              "    </tr>\n",
              "    <tr>\n",
              "      <th>Wind Speed (km/h)</th>\n",
              "      <td>5999.0</td>\n",
              "      <td>10.007362</td>\n",
              "      <td>6.536619</td>\n",
              "      <td>0.000000</td>\n",
              "      <td>4.878300</td>\n",
              "      <td>9.0643</td>\n",
              "      <td>13.395200</td>\n",
              "      <td>45.933300</td>\n",
              "    </tr>\n",
              "    <tr>\n",
              "      <th>Wind Bearing (degrees)</th>\n",
              "      <td>5999.0</td>\n",
              "      <td>190.349558</td>\n",
              "      <td>107.026792</td>\n",
              "      <td>0.000000</td>\n",
              "      <td>122.000000</td>\n",
              "      <td>190.0000</td>\n",
              "      <td>287.000000</td>\n",
              "      <td>359.000000</td>\n",
              "    </tr>\n",
              "    <tr>\n",
              "      <th>Visibility (km)</th>\n",
              "      <td>5999.0</td>\n",
              "      <td>9.476875</td>\n",
              "      <td>4.038583</td>\n",
              "      <td>0.000000</td>\n",
              "      <td>6.906900</td>\n",
              "      <td>9.9820</td>\n",
              "      <td>11.270000</td>\n",
              "      <td>16.100000</td>\n",
              "    </tr>\n",
              "    <tr>\n",
              "      <th>Loud Cover</th>\n",
              "      <td>5999.0</td>\n",
              "      <td>0.000000</td>\n",
              "      <td>0.000000</td>\n",
              "      <td>0.000000</td>\n",
              "      <td>0.000000</td>\n",
              "      <td>0.0000</td>\n",
              "      <td>0.000000</td>\n",
              "      <td>0.000000</td>\n",
              "    </tr>\n",
              "    <tr>\n",
              "      <th>Pressure (millibars)</th>\n",
              "      <td>5999.0</td>\n",
              "      <td>997.359828</td>\n",
              "      <td>145.173638</td>\n",
              "      <td>0.000000</td>\n",
              "      <td>1012.060000</td>\n",
              "      <td>1016.8400</td>\n",
              "      <td>1022.490000</td>\n",
              "      <td>1045.140000</td>\n",
              "    </tr>\n",
              "  </tbody>\n",
              "</table>\n",
              "</div>"
            ],
            "text/plain": [
              "                           count        mean  ...          75%          max\n",
              "Temperature (C)           5999.0   10.217695  ...    18.722222    34.005556\n",
              "Apparent Temperature (C)  5999.0    8.958658  ...    18.722222    36.400000\n",
              "Humidity                  5999.0    0.779488  ...     0.920000     1.000000\n",
              "Wind Speed (km/h)         5999.0   10.007362  ...    13.395200    45.933300\n",
              "Wind Bearing (degrees)    5999.0  190.349558  ...   287.000000   359.000000\n",
              "Visibility (km)           5999.0    9.476875  ...    11.270000    16.100000\n",
              "Loud Cover                5999.0    0.000000  ...     0.000000     0.000000\n",
              "Pressure (millibars)      5999.0  997.359828  ...  1022.490000  1045.140000\n",
              "\n",
              "[8 rows x 8 columns]"
            ]
          },
          "metadata": {
            "tags": []
          },
          "execution_count": 495
        }
      ]
    },
    {
      "cell_type": "markdown",
      "metadata": {
        "id": "qHE0iverSf8q",
        "colab_type": "text"
      },
      "source": [
        "####It is visible from the data that count is equal to number of rows.average temperature at Szeged is nearly eqaul to 10 degree celsius.We can also see that that maximum temperature which was recorded in szeged was 34 and minimun temperature was -14 degree celsius.\n",
        "\n",
        "####It is can be seen from above analysis that maximum wind speed is 46(approx.) km/hr whereas 10 km/hr is the minimum wind speed."
      ]
    },
    {
      "cell_type": "code",
      "metadata": {
        "id": "-qnLUYqaSOxU",
        "colab_type": "code",
        "outputId": "c38608fb-0e9d-4af6-9b5c-df4bab954079",
        "colab": {
          "base_uri": "https://localhost:8080/",
          "height": 181
        }
      },
      "source": [
        "#To find the median values from the every columns of dataset.\n",
        "df.median()"
      ],
      "execution_count": 496,
      "outputs": [
        {
          "output_type": "execute_result",
          "data": {
            "text/plain": [
              "Temperature (C)               10.0500\n",
              "Apparent Temperature (C)      10.0500\n",
              "Humidity                       0.8300\n",
              "Wind Speed (km/h)              9.0643\n",
              "Wind Bearing (degrees)       190.0000\n",
              "Visibility (km)                9.9820\n",
              "Loud Cover                     0.0000\n",
              "Pressure (millibars)        1016.8400\n",
              "dtype: float64"
            ]
          },
          "metadata": {
            "tags": []
          },
          "execution_count": 496
        }
      ]
    },
    {
      "cell_type": "markdown",
      "metadata": {
        "id": "2s5tAWisD3iO",
        "colab_type": "text"
      },
      "source": [
        "####From the above analysis we can see that the mean and the median of the columns are nearly equal which means the data has less very skewness."
      ]
    },
    {
      "cell_type": "markdown",
      "metadata": {
        "id": "zzJ455k2WSIs",
        "colab_type": "text"
      },
      "source": [
        "##<u>Data Quality</u>"
      ]
    },
    {
      "cell_type": "markdown",
      "metadata": {
        "id": "XHcv6IEBXsS_",
        "colab_type": "text"
      },
      "source": [
        "####<u>Missing Values</u>"
      ]
    },
    {
      "cell_type": "code",
      "metadata": {
        "id": "JO0N7F5JDyRg",
        "colab_type": "code",
        "outputId": "331f9520-5c86-4f73-b937-8ac2650eccdf",
        "colab": {
          "base_uri": "https://localhost:8080/",
          "height": 254
        }
      },
      "source": [
        "#To check the missing values in the dataset\n",
        "df.isnull().sum()"
      ],
      "execution_count": 497,
      "outputs": [
        {
          "output_type": "execute_result",
          "data": {
            "text/plain": [
              "Formatted Date              0\n",
              "Summary                     0\n",
              "Precip Type                 0\n",
              "Temperature (C)             0\n",
              "Apparent Temperature (C)    0\n",
              "Humidity                    0\n",
              "Wind Speed (km/h)           0\n",
              "Wind Bearing (degrees)      0\n",
              "Visibility (km)             0\n",
              "Loud Cover                  0\n",
              "Pressure (millibars)        0\n",
              "Daily Summary               0\n",
              "dtype: int64"
            ]
          },
          "metadata": {
            "tags": []
          },
          "execution_count": 497
        }
      ]
    },
    {
      "cell_type": "markdown",
      "metadata": {
        "id": "z-rroQ4ZWxC4",
        "colab_type": "text"
      },
      "source": [
        "####So it is visible from the above data that there is no null data in any row of the column"
      ]
    },
    {
      "cell_type": "markdown",
      "metadata": {
        "id": "PJxfdk-X4RLa",
        "colab_type": "text"
      },
      "source": [
        "###<u>Data Cleaning</u>"
      ]
    },
    {
      "cell_type": "code",
      "metadata": {
        "id": "YpkZnmi-4XYK",
        "colab_type": "code",
        "colab": {
          "base_uri": "https://localhost:8080/",
          "height": 181
        },
        "outputId": "7d31f015-6851-4cbc-9edc-749e39177557"
      },
      "source": [
        "df['Loud Cover'].describe()"
      ],
      "execution_count": 498,
      "outputs": [
        {
          "output_type": "execute_result",
          "data": {
            "text/plain": [
              "count    5999.0\n",
              "mean        0.0\n",
              "std         0.0\n",
              "min         0.0\n",
              "25%         0.0\n",
              "50%         0.0\n",
              "75%         0.0\n",
              "max         0.0\n",
              "Name: Loud Cover, dtype: float64"
            ]
          },
          "metadata": {
            "tags": []
          },
          "execution_count": 498
        }
      ]
    },
    {
      "cell_type": "markdown",
      "metadata": {
        "id": "nNQlg9YA4fV7",
        "colab_type": "text"
      },
      "source": [
        "####In this we can see that there is one of the column as Loud Cover who is having minimum and maximum value as zero so we need to drop these column"
      ]
    },
    {
      "cell_type": "code",
      "metadata": {
        "id": "_Ctt566U48u8",
        "colab_type": "code",
        "colab": {
          "base_uri": "https://localhost:8080/",
          "height": 405
        },
        "outputId": "c8110965-df36-4e8e-9175-90aa6fbe12a0"
      },
      "source": [
        "df=df.drop(columns=['Loud Cover'])\n",
        "df.head()"
      ],
      "execution_count": 540,
      "outputs": [
        {
          "output_type": "execute_result",
          "data": {
            "text/html": [
              "<div>\n",
              "<style scoped>\n",
              "    .dataframe tbody tr th:only-of-type {\n",
              "        vertical-align: middle;\n",
              "    }\n",
              "\n",
              "    .dataframe tbody tr th {\n",
              "        vertical-align: top;\n",
              "    }\n",
              "\n",
              "    .dataframe thead th {\n",
              "        text-align: right;\n",
              "    }\n",
              "</style>\n",
              "<table border=\"1\" class=\"dataframe\">\n",
              "  <thead>\n",
              "    <tr style=\"text-align: right;\">\n",
              "      <th></th>\n",
              "      <th>Formatted Date</th>\n",
              "      <th>Summary</th>\n",
              "      <th>Precip Type</th>\n",
              "      <th>Temperature (C)</th>\n",
              "      <th>Apparent Temperature (C)</th>\n",
              "      <th>Humidity</th>\n",
              "      <th>Wind Speed (km/h)</th>\n",
              "      <th>Wind Bearing (degrees)</th>\n",
              "      <th>Visibility (km)</th>\n",
              "      <th>Pressure (millibars)</th>\n",
              "      <th>Daily Summary</th>\n",
              "    </tr>\n",
              "  </thead>\n",
              "  <tbody>\n",
              "    <tr>\n",
              "      <th>0</th>\n",
              "      <td>2006-04-01 00:00:00.000 +0200</td>\n",
              "      <td>Partly Cloudy</td>\n",
              "      <td>rain</td>\n",
              "      <td>9.472222</td>\n",
              "      <td>7.388889</td>\n",
              "      <td>89.0</td>\n",
              "      <td>14.1197</td>\n",
              "      <td>251</td>\n",
              "      <td>15.8263</td>\n",
              "      <td>1015.13</td>\n",
              "      <td>Partly cloudy throughout the day.</td>\n",
              "    </tr>\n",
              "    <tr>\n",
              "      <th>1</th>\n",
              "      <td>2006-04-01 01:00:00.000 +0200</td>\n",
              "      <td>Partly Cloudy</td>\n",
              "      <td>rain</td>\n",
              "      <td>9.355556</td>\n",
              "      <td>7.227778</td>\n",
              "      <td>86.0</td>\n",
              "      <td>14.2646</td>\n",
              "      <td>259</td>\n",
              "      <td>15.8263</td>\n",
              "      <td>1015.63</td>\n",
              "      <td>Partly cloudy throughout the day.</td>\n",
              "    </tr>\n",
              "    <tr>\n",
              "      <th>2</th>\n",
              "      <td>2006-04-01 02:00:00.000 +0200</td>\n",
              "      <td>Mostly Cloudy</td>\n",
              "      <td>rain</td>\n",
              "      <td>9.377778</td>\n",
              "      <td>9.377778</td>\n",
              "      <td>89.0</td>\n",
              "      <td>3.9284</td>\n",
              "      <td>204</td>\n",
              "      <td>14.9569</td>\n",
              "      <td>1015.94</td>\n",
              "      <td>Partly cloudy throughout the day.</td>\n",
              "    </tr>\n",
              "    <tr>\n",
              "      <th>3</th>\n",
              "      <td>2006-04-01 03:00:00.000 +0200</td>\n",
              "      <td>Partly Cloudy</td>\n",
              "      <td>rain</td>\n",
              "      <td>8.288889</td>\n",
              "      <td>5.944444</td>\n",
              "      <td>83.0</td>\n",
              "      <td>14.1036</td>\n",
              "      <td>269</td>\n",
              "      <td>15.8263</td>\n",
              "      <td>1016.41</td>\n",
              "      <td>Partly cloudy throughout the day.</td>\n",
              "    </tr>\n",
              "    <tr>\n",
              "      <th>4</th>\n",
              "      <td>2006-04-01 04:00:00.000 +0200</td>\n",
              "      <td>Mostly Cloudy</td>\n",
              "      <td>rain</td>\n",
              "      <td>8.755556</td>\n",
              "      <td>6.977778</td>\n",
              "      <td>83.0</td>\n",
              "      <td>11.0446</td>\n",
              "      <td>259</td>\n",
              "      <td>15.8263</td>\n",
              "      <td>1016.51</td>\n",
              "      <td>Partly cloudy throughout the day.</td>\n",
              "    </tr>\n",
              "  </tbody>\n",
              "</table>\n",
              "</div>"
            ],
            "text/plain": [
              "                  Formatted Date  ...                      Daily Summary\n",
              "0  2006-04-01 00:00:00.000 +0200  ...  Partly cloudy throughout the day.\n",
              "1  2006-04-01 01:00:00.000 +0200  ...  Partly cloudy throughout the day.\n",
              "2  2006-04-01 02:00:00.000 +0200  ...  Partly cloudy throughout the day.\n",
              "3  2006-04-01 03:00:00.000 +0200  ...  Partly cloudy throughout the day.\n",
              "4  2006-04-01 04:00:00.000 +0200  ...  Partly cloudy throughout the day.\n",
              "\n",
              "[5 rows x 11 columns]"
            ]
          },
          "metadata": {
            "tags": []
          },
          "execution_count": 540
        }
      ]
    },
    {
      "cell_type": "markdown",
      "metadata": {
        "id": "k-Q2X_PF5DwQ",
        "colab_type": "text"
      },
      "source": [
        "####Lets see the shape of dataset after dropping the column Loud Cover"
      ]
    },
    {
      "cell_type": "code",
      "metadata": {
        "id": "2Qg6grzM5OES",
        "colab_type": "code",
        "colab": {
          "base_uri": "https://localhost:8080/",
          "height": 35
        },
        "outputId": "80f7cf6e-7867-4bfa-a39f-a3d0c21c75d8"
      },
      "source": [
        "df.shape"
      ],
      "execution_count": 500,
      "outputs": [
        {
          "output_type": "execute_result",
          "data": {
            "text/plain": [
              "(5999, 12)"
            ]
          },
          "metadata": {
            "tags": []
          },
          "execution_count": 500
        }
      ]
    },
    {
      "cell_type": "markdown",
      "metadata": {
        "id": "PzZTU88N5SPy",
        "colab_type": "text"
      },
      "source": [
        "####So there are now 12 columns left."
      ]
    },
    {
      "cell_type": "markdown",
      "metadata": {
        "id": "fsdOKHCeXxBb",
        "colab_type": "text"
      },
      "source": [
        "###<u>Datatypes used</u>"
      ]
    },
    {
      "cell_type": "code",
      "metadata": {
        "id": "yU5eicdVWvy1",
        "colab_type": "code",
        "outputId": "dc67504b-deee-4d1f-b091-825203b1e636",
        "colab": {
          "base_uri": "https://localhost:8080/",
          "height": 326
        }
      },
      "source": [
        "#To check the datatypes of dataset\n",
        "df.info()"
      ],
      "execution_count": 501,
      "outputs": [
        {
          "output_type": "stream",
          "text": [
            "<class 'pandas.core.frame.DataFrame'>\n",
            "RangeIndex: 5999 entries, 0 to 5998\n",
            "Data columns (total 12 columns):\n",
            "Formatted Date              5999 non-null object\n",
            "Summary                     5999 non-null object\n",
            "Precip Type                 5999 non-null object\n",
            "Temperature (C)             5999 non-null float64\n",
            "Apparent Temperature (C)    5999 non-null float64\n",
            "Humidity                    5999 non-null float64\n",
            "Wind Speed (km/h)           5999 non-null float64\n",
            "Wind Bearing (degrees)      5999 non-null int64\n",
            "Visibility (km)             5999 non-null float64\n",
            "Loud Cover                  5999 non-null int64\n",
            "Pressure (millibars)        5999 non-null float64\n",
            "Daily Summary               5999 non-null object\n",
            "dtypes: float64(6), int64(2), object(4)\n",
            "memory usage: 562.5+ KB\n"
          ],
          "name": "stdout"
        }
      ]
    },
    {
      "cell_type": "markdown",
      "metadata": {
        "id": "n5MVEQgzXCB8",
        "colab_type": "text"
      },
      "source": [
        "####So from above analysis we can see that there are 6 float type columns ,2 int type columns and 4 object type columns"
      ]
    },
    {
      "cell_type": "markdown",
      "metadata": {
        "id": "NtLToVsLX4Dh",
        "colab_type": "text"
      },
      "source": [
        "###<u>Unique Values in Columns</u>"
      ]
    },
    {
      "cell_type": "code",
      "metadata": {
        "id": "i7BBbrFnXARm",
        "colab_type": "code",
        "outputId": "de7cc1a1-4529-4dc0-9700-8ab3e6c53ce6",
        "colab": {
          "base_uri": "https://localhost:8080/",
          "height": 254
        }
      },
      "source": [
        "#To check the number of unique values in each columns of dataset\n",
        "df.apply( lambda x: len(x.unique()))"
      ],
      "execution_count": 502,
      "outputs": [
        {
          "output_type": "execute_result",
          "data": {
            "text/plain": [
              "Formatted Date              5999\n",
              "Summary                       14\n",
              "Precip Type                    2\n",
              "Temperature (C)             3014\n",
              "Apparent Temperature (C)    3622\n",
              "Humidity                      74\n",
              "Wind Speed (km/h)           1444\n",
              "Wind Bearing (degrees)       357\n",
              "Visibility (km)              592\n",
              "Loud Cover                     1\n",
              "Pressure (millibars)        2637\n",
              "Daily Summary                 58\n",
              "dtype: int64"
            ]
          },
          "metadata": {
            "tags": []
          },
          "execution_count": 502
        }
      ]
    },
    {
      "cell_type": "markdown",
      "metadata": {
        "id": "lAnnw_JGXblz",
        "colab_type": "text"
      },
      "source": [
        "####So it is visible from above data that there are 2 types of precip_type and one cloud cover"
      ]
    },
    {
      "cell_type": "markdown",
      "metadata": {
        "id": "vAvmg64oYKbU",
        "colab_type": "text"
      },
      "source": [
        "##<u>Univariate Analysis</u>"
      ]
    },
    {
      "cell_type": "markdown",
      "metadata": {
        "id": "sBlf_nUHih0D",
        "colab_type": "text"
      },
      "source": [
        "###<u>Summary</u>"
      ]
    },
    {
      "cell_type": "code",
      "metadata": {
        "id": "vmJfk1UBl7Wp",
        "colab_type": "code",
        "outputId": "0226141e-c791-4a71-ec44-1953785367f4",
        "colab": {
          "base_uri": "https://localhost:8080/",
          "height": 108
        }
      },
      "source": [
        "#To get a description about the column summary.\n",
        "df['Summary'].describe()"
      ],
      "execution_count": 503,
      "outputs": [
        {
          "output_type": "execute_result",
          "data": {
            "text/plain": [
              "count              5999\n",
              "unique               14\n",
              "top       Partly Cloudy\n",
              "freq               1791\n",
              "Name: Summary, dtype: object"
            ]
          },
          "metadata": {
            "tags": []
          },
          "execution_count": 503
        }
      ]
    },
    {
      "cell_type": "markdown",
      "metadata": {
        "id": "EpYaVF0rmmyJ",
        "colab_type": "text"
      },
      "source": [
        "Here we can see that that there are 14 unique values and maximum frequency is of Partly Cloudy"
      ]
    },
    {
      "cell_type": "markdown",
      "metadata": {
        "id": "CWWhW8nilngW",
        "colab_type": "text"
      },
      "source": [
        "####To count the number of times a value has appeared in column Summary."
      ]
    },
    {
      "cell_type": "code",
      "metadata": {
        "id": "ZTvZay73XZve",
        "colab_type": "code",
        "outputId": "c0ad9bca-07ed-4b58-f760-eff564e3e533",
        "colab": {
          "base_uri": "https://localhost:8080/",
          "height": 308
        }
      },
      "source": [
        "df3=df.groupby('Summary').size()\n",
        "print(df3)"
      ],
      "execution_count": 504,
      "outputs": [
        {
          "output_type": "stream",
          "text": [
            "Summary\n",
            "Breezy and Foggy               7\n",
            "Breezy and Mostly Cloudy      20\n",
            "Breezy and Overcast           25\n",
            "Breezy and Partly Cloudy       7\n",
            "Clear                        853\n",
            "Foggy                        576\n",
            "Humid and Mostly Cloudy        6\n",
            "Humid and Partly Cloudy        3\n",
            "Mostly Cloudy               1473\n",
            "Overcast                    1230\n",
            "Partly Cloudy               1791\n",
            "Windy and Foggy                2\n",
            "Windy and Overcast             4\n",
            "Windy and Partly Cloudy        2\n",
            "dtype: int64\n"
          ],
          "name": "stdout"
        }
      ]
    },
    {
      "cell_type": "markdown",
      "metadata": {
        "id": "ASV0dSE3ma1B",
        "colab_type": "text"
      },
      "source": [
        "So we can see that that most of times the weather is Partly Cloudy and Mostly Cloudy."
      ]
    },
    {
      "cell_type": "code",
      "metadata": {
        "id": "MZNfNMY91y-z",
        "colab_type": "code",
        "colab": {
          "base_uri": "https://localhost:8080/",
          "height": 434
        },
        "outputId": "b6f65191-e529-402a-def8-424b480738f8"
      },
      "source": [
        "#To plot a counplot for the visualization of column summary\n",
        "k=sns.countplot(x='Summary',data=df)\n",
        "k.set_xticklabels(k.get_xticklabels(),rotation=90)\n",
        "k.set_title(\"Summary\")"
      ],
      "execution_count": 505,
      "outputs": [
        {
          "output_type": "execute_result",
          "data": {
            "text/plain": [
              "Text(0.5, 1.0, 'Summary')"
            ]
          },
          "metadata": {
            "tags": []
          },
          "execution_count": 505
        },
        {
          "output_type": "display_data",
          "data": {
            "image/png": "[encoded data removed]",
            "text/plain": [
              "<Figure size 432x288 with 1 Axes>"
            ]
          },
          "metadata": {
            "tags": []
          }
        }
      ]
    },
    {
      "cell_type": "markdown",
      "metadata": {
        "id": "96URiCLZ2rep",
        "colab_type": "text"
      },
      "source": [
        "####From the plot it is visible that maximum times the weather remains as partly cloudy,mostly cloudy,overcast"
      ]
    },
    {
      "cell_type": "code",
      "metadata": {
        "id": "OCZQtNQ7mZzH",
        "colab_type": "code",
        "outputId": "ccc32ff1-c947-417b-c570-a40badeccb71",
        "colab": {
          "base_uri": "https://localhost:8080/",
          "height": 583
        }
      },
      "source": [
        "df3=df3.to_frame()\n",
        "p=df3.query('Summary==\"Clear\"') \n",
        "p2 =df3.query('Summary==\"Foggy\"')\n",
        "p3=df3.query('Summary==\"Windy and Foggy\"') \n",
        "p4 =df3.query('Summary==\"Windy and Overcast\"')\n",
        "p5=df3.query('Summary==\"Windy and Partly Cloudy\"') \n",
        "p6 =df3.query('Summary==\"Humid and Partly Cloudy\"')\n",
        "p7=df3.query('Summary==\"Humid and Mostly Cloudy\"') \n",
        "p8 =df3.query('Summary==\"Breezy and Partly Cloudy\"')\n",
        "p9=df3.query('Summary==\"Breezy and Overcast\"') \n",
        "p10 =df3.query('Summary==\"Breezy and Mostly Cloudy\"')\n",
        "p11=df3.query('Summary==\"Breezy and Foggy\"')\n",
        "p12=df3.query('Summary==\"Partly Cloudy\"')\n",
        "p13=df3.query('Summary==\"Mostly Cloudy\"')\n",
        "p14=df3.query('Summary==\"Overcast\"')\n",
        "p1=p2.sum()+p.sum()+p3.sum()+p4.sum()+p5.sum()+p6.sum()+p7.sum()+p8.sum()+p9.sum()+p10.sum()+p11.sum()\n",
        "p14=p14.sum()\n",
        "p12=p12.sum()\n",
        "p13=p13.sum()\n",
        "from matplotlib.pyplot import pie, axis, show\n",
        "df12 = pd.DataFrame({\n",
        "    'Summary': ['Partly Cloudy', 'Mostly Cloudy', 'Overcast','Rest'],\n",
        "    'Values': [p14,p13,p12,p1]})\n",
        "sums = df12.Values.groupby(df12.Summary).sum()\n",
        "plt.figure(figsize=(28,6))\n",
        "axis='equal'\n",
        "pie(sums, labels=sums.index,autopct='%1.1f%%')"
      ],
      "execution_count": 506,
      "outputs": [
        {
          "output_type": "execute_result",
          "data": {
            "text/plain": [
              "([<matplotlib.patches.Wedge at 0x7f530a7c9cf8>,\n",
              "  <matplotlib.patches.Wedge at 0x7f530a7d3438>,\n",
              "  <matplotlib.patches.Wedge at 0x7f530a7d3b38>,\n",
              "  <matplotlib.patches.Wedge at 0x7f530a7de278>],\n",
              " [Text(0.7886369354169925, 0.7668453456180683, 'Mostly Cloudy'),\n",
              "  Text(-0.8683896512248944, 0.6752032387700065, 'Overcast'),\n",
              "  Text(-0.6653832115436118, -0.8759367453166406, 'Partly Cloudy'),\n",
              "  Text(0.7756760300546007, -0.7799530090965315, 'Rest')],\n",
              " [Text(0.43016560113654134, 0.41827927942803717, '24.6%'),\n",
              "  Text(-0.473667082486306, 0.3682926756927308, '29.9%'),\n",
              "  Text(-0.36293629720560644, -0.4777836792636221, '20.5%'),\n",
              "  Text(0.42309601639341854, -0.42542891405265354, '25.1%')])"
            ]
          },
          "metadata": {
            "tags": []
          },
          "execution_count": 506
        },
        {
          "output_type": "display_data",
          "data": {
            "image/png": "[encoded data removed]",
            "text/plain": [
              "<Figure size 2016x432 with 1 Axes>"
            ]
          },
          "metadata": {
            "tags": []
          }
        }
      ]
    },
    {
      "cell_type": "markdown",
      "metadata": {
        "id": "reUmUCX57bDy",
        "colab_type": "text"
      },
      "source": [
        "####Here We can see that approximate 75% of the Summary consists of only Overacast,Partly Cloudy,Mostly Cloudy.These is because Szeged is a city with a significant rainfall. Even in the driest month there is a lot of rain.\n"
      ]
    },
    {
      "cell_type": "markdown",
      "metadata": {
        "id": "531BLTaB85Ua",
        "colab_type": "text"
      },
      "source": [
        "###<u>Precip_Type</u>"
      ]
    },
    {
      "cell_type": "code",
      "metadata": {
        "id": "DFdwyV2np007",
        "colab_type": "code",
        "outputId": "bba1f4ac-aa53-49b0-816c-77bd08e817d7",
        "colab": {
          "base_uri": "https://localhost:8080/",
          "height": 108
        }
      },
      "source": [
        "#To get the Description about the Precipitation Type \n",
        "df['Precip Type'].describe()"
      ],
      "execution_count": 507,
      "outputs": [
        {
          "output_type": "execute_result",
          "data": {
            "text/plain": [
              "count     5999\n",
              "unique       2\n",
              "top       rain\n",
              "freq      4762\n",
              "Name: Precip Type, dtype: object"
            ]
          },
          "metadata": {
            "tags": []
          },
          "execution_count": 507
        }
      ]
    },
    {
      "cell_type": "markdown",
      "metadata": {
        "id": "0HzwG8R1Aflj",
        "colab_type": "text"
      },
      "source": [
        "####Here we can see that there are only 2 types of unique Values in which rain is top value."
      ]
    },
    {
      "cell_type": "code",
      "metadata": {
        "id": "hTj0VfupC5VY",
        "colab_type": "code",
        "outputId": "c16e376e-5827-4f6a-db81-20c24e4caead",
        "colab": {
          "base_uri": "https://localhost:8080/",
          "height": 72
        }
      },
      "source": [
        "percentage=df['Precip Type'].value_counts()\n",
        "percent=100*(percentage/df['Precip Type'].value_counts().sum())\n",
        "percent"
      ],
      "execution_count": 508,
      "outputs": [
        {
          "output_type": "execute_result",
          "data": {
            "text/plain": [
              "rain    79.379897\n",
              "snow    20.620103\n",
              "Name: Precip Type, dtype: float64"
            ]
          },
          "metadata": {
            "tags": []
          },
          "execution_count": 508
        }
      ]
    },
    {
      "cell_type": "markdown",
      "metadata": {
        "id": "UsYSKeUADyEF",
        "colab_type": "text"
      },
      "source": [
        "####Here We can see that approx. 79% times rain happenend and 21% time Snow happenend"
      ]
    },
    {
      "cell_type": "code",
      "metadata": {
        "id": "AYTMn9xj9K3z",
        "colab_type": "code",
        "outputId": "cb334362-75e0-4d5e-8105-f7b90215aab6",
        "colab": {
          "base_uri": "https://localhost:8080/",
          "height": 302
        }
      },
      "source": [
        "sns.countplot(df['Precip Type'])"
      ],
      "execution_count": 509,
      "outputs": [
        {
          "output_type": "execute_result",
          "data": {
            "text/plain": [
              "<matplotlib.axes._subplots.AxesSubplot at 0x7f530a81d2b0>"
            ]
          },
          "metadata": {
            "tags": []
          },
          "execution_count": 509
        },
        {
          "output_type": "display_data",
          "data": {
            "image/png": "[encoded data removed]",
            "text/plain": [
              "<Figure size 432x288 with 1 Axes>"
            ]
          },
          "metadata": {
            "tags": []
          }
        }
      ]
    },
    {
      "cell_type": "markdown",
      "metadata": {
        "id": "-Pm594wpFnx_",
        "colab_type": "text"
      },
      "source": [
        "####We can see that rain occurs most of Time."
      ]
    },
    {
      "cell_type": "code",
      "metadata": {
        "id": "D1oFKNuMA70O",
        "colab_type": "code",
        "colab": {
          "base_uri": "https://localhost:8080/",
          "height": 419
        },
        "outputId": "f6affab9-9db9-4a90-8a2d-8b4cb5757f33"
      },
      "source": [
        "plt.figure(figsize=(10,5))\n",
        "pie(percent,labels=['Rain','Snow'],autopct='%1.1f%%')\n"
      ],
      "execution_count": 510,
      "outputs": [
        {
          "output_type": "execute_result",
          "data": {
            "text/plain": [
              "([<matplotlib.patches.Wedge at 0x7f530a6d3320>,\n",
              "  <matplotlib.patches.Wedge at 0x7f530a6d3a20>],\n",
              " [Text(-0.877154874750547, 0.6637765630853144, 'Rain'),\n",
              "  Text(0.8771549058241692, -0.663776522022731, 'Snow')],\n",
              " [Text(-0.4784481135002983, 0.36205994350108056, '79.4%'),\n",
              "  Text(0.4784481304495468, -0.36205992110330776, '20.6%')])"
            ]
          },
          "metadata": {
            "tags": []
          },
          "execution_count": 510
        },
        {
          "output_type": "display_data",
          "data": {
            "image/png": "[encoded data removed]",
            "text/plain": [
              "<Figure size 720x360 with 1 Axes>"
            ]
          },
          "metadata": {
            "tags": []
          }
        }
      ]
    },
    {
      "cell_type": "markdown",
      "metadata": {
        "id": "hEBdeq7M5BRm",
        "colab_type": "text"
      },
      "source": [
        "####We conclude that according to the dataset 79.4% time rain happenend and 20.6% times snow happenend"
      ]
    },
    {
      "cell_type": "markdown",
      "metadata": {
        "id": "INMUtpkz5Med",
        "colab_type": "text"
      },
      "source": [
        "###<u>Temperature (C)</u>"
      ]
    },
    {
      "cell_type": "code",
      "metadata": {
        "id": "slEwmESM4pQX",
        "colab_type": "code",
        "colab": {
          "base_uri": "https://localhost:8080/",
          "height": 181
        },
        "outputId": "88eb99dc-ed9e-48b4-f5b2-a3b79cf2a48b"
      },
      "source": [
        "#To get a description about the data\n",
        "df['Temperature (C)'].describe()"
      ],
      "execution_count": 511,
      "outputs": [
        {
          "output_type": "execute_result",
          "data": {
            "text/plain": [
              "count    5999.000000\n",
              "mean       10.217695\n",
              "std        10.565425\n",
              "min       -14.088889\n",
              "25%         1.094444\n",
              "50%        10.050000\n",
              "75%        18.722222\n",
              "max        34.005556\n",
              "Name: Temperature (C), dtype: float64"
            ]
          },
          "metadata": {
            "tags": []
          },
          "execution_count": 511
        }
      ]
    },
    {
      "cell_type": "markdown",
      "metadata": {
        "id": "dulew9Ul5ws3",
        "colab_type": "text"
      },
      "source": [
        "####So from the above analysis we concluded that the average temperature that was recorded in Szeged is -14 degree celsius and maximum temperature that was recorded in Szeged is 34 degree celsius."
      ]
    },
    {
      "cell_type": "code",
      "metadata": {
        "id": "Nk3c0sGj5XeE",
        "colab_type": "code",
        "colab": {
          "base_uri": "https://localhost:8080/",
          "height": 423
        },
        "outputId": "7a447b5f-11d7-4dc6-8156-b61b2f164ebc"
      },
      "source": [
        "plt.figure(figsize=(15,6))\n",
        "k=sns.distplot(df['Temperature (C)'],color='red',kde=False)\n",
        "k.set_title(\"Temperature (C)\")\n"
      ],
      "execution_count": 512,
      "outputs": [
        {
          "output_type": "execute_result",
          "data": {
            "text/plain": [
              "Text(0.5, 1.0, 'Temperature (C)')"
            ]
          },
          "metadata": {
            "tags": []
          },
          "execution_count": 512
        },
        {
          "output_type": "display_data",
          "data": {
            "image/png": "[encoded data removed]",
            "text/plain": [
              "<Figure size 1080x432 with 1 Axes>"
            ]
          },
          "metadata": {
            "tags": []
          }
        }
      ]
    },
    {
      "cell_type": "markdown",
      "metadata": {
        "id": "e6x2XqnU6nPY",
        "colab_type": "text"
      },
      "source": [
        "####In the above plot it is visible that the average temperature that is recorded in Szeged lies in the range of -4 to 4 degree celsius"
      ]
    },
    {
      "cell_type": "code",
      "metadata": {
        "id": "ptskeH4D6I7q",
        "colab_type": "code",
        "colab": {
          "base_uri": "https://localhost:8080/",
          "height": 302
        },
        "outputId": "4c6118f9-bcef-4921-9a90-5824bab2e2bc"
      },
      "source": [
        "sns.boxplot(df['Temperature (C)'],color=\"red\")"
      ],
      "execution_count": 565,
      "outputs": [
        {
          "output_type": "execute_result",
          "data": {
            "text/plain": [
              "<matplotlib.axes._subplots.AxesSubplot at 0x7f5309a676d8>"
            ]
          },
          "metadata": {
            "tags": []
          },
          "execution_count": 565
        },
        {
          "output_type": "display_data",
          "data": {
            "image/png": "[encoded data removed]",
            "text/plain": [
              "<Figure size 432x288 with 1 Axes>"
            ]
          },
          "metadata": {
            "tags": []
          }
        }
      ]
    },
    {
      "cell_type": "markdown",
      "metadata": {
        "id": "WZxWBx556-3e",
        "colab_type": "text"
      },
      "source": [
        "####The plot describes that the median lies somewhere between 10 degree celsius.We can also conclude that there are no ouliers."
      ]
    },
    {
      "cell_type": "markdown",
      "metadata": {
        "id": "tYSfPx0u7KoP",
        "colab_type": "text"
      },
      "source": [
        "###<u>Apparent Temperature (C)</u>"
      ]
    },
    {
      "cell_type": "code",
      "metadata": {
        "id": "4KW48YgR69rM",
        "colab_type": "code",
        "colab": {
          "base_uri": "https://localhost:8080/",
          "height": 181
        },
        "outputId": "7635cb92-a920-49da-928d-3a95e91dde8c"
      },
      "source": [
        "df['Apparent Temperature (C)'].describe()"
      ],
      "execution_count": 514,
      "outputs": [
        {
          "output_type": "execute_result",
          "data": {
            "text/plain": [
              "count    5999.000000\n",
              "mean        8.958658\n",
              "std        11.923712\n",
              "min       -22.094444\n",
              "25%        -1.538889\n",
              "50%        10.050000\n",
              "75%        18.722222\n",
              "max        36.400000\n",
              "Name: Apparent Temperature (C), dtype: float64"
            ]
          },
          "metadata": {
            "tags": []
          },
          "execution_count": 514
        }
      ]
    },
    {
      "cell_type": "markdown",
      "metadata": {
        "id": "FmoN5ziO7h0M",
        "colab_type": "text"
      },
      "source": [
        "####From the above analysis we can see that the minimum apparent Temperature that has been calculated in Szeged is -22 degree celsius that is less than the actual temperature and maximum Apparent temperature that has been calculated is 36 degrees celsius that also less than the maximum temperature recorded.This is because of the fact as Apparent temperature is the temperature equivalent perceived by humans, caused by the combined effects of air temperature, relative humidity and wind speed. The measure is most commonly applied to the perceived outdoor temperature."
      ]
    },
    {
      "cell_type": "code",
      "metadata": {
        "id": "GbMA-_HJ7eyS",
        "colab_type": "code",
        "colab": {
          "base_uri": "https://localhost:8080/",
          "height": 532
        },
        "outputId": "1d7457f9-0636-4125-8fcd-6f48df33f19d"
      },
      "source": [
        "plt.figure(figsize=(15,8))\n",
        "k1=sns.distplot(df['Apparent Temperature (C)'],kde=False,color='navy')\n",
        "k1.set_title(\"Apparent Temperature (C)\")"
      ],
      "execution_count": 515,
      "outputs": [
        {
          "output_type": "execute_result",
          "data": {
            "text/plain": [
              "Text(0.5, 1.0, 'Apparent Temperature (C)')"
            ]
          },
          "metadata": {
            "tags": []
          },
          "execution_count": 515
        },
        {
          "output_type": "display_data",
          "data": {
            "image/png": "[encoded data removed]",
            "text/plain": [
              "<Figure size 1080x576 with 1 Axes>"
            ]
          },
          "metadata": {
            "tags": []
          }
        }
      ]
    },
    {
      "cell_type": "markdown",
      "metadata": {
        "id": "1vBGK6br8YYE",
        "colab_type": "text"
      },
      "source": [
        "####By looking at the above plot we can conclude that maximum times apparent temperature ranges between -4 to 4  degree celsius. "
      ]
    },
    {
      "cell_type": "code",
      "metadata": {
        "id": "4QFoyP5m8PY7",
        "colab_type": "code",
        "colab": {
          "base_uri": "https://localhost:8080/",
          "height": 302
        },
        "outputId": "54a633a0-3fa4-4aa7-fb31-74bac747a11e"
      },
      "source": [
        "sns.boxplot(df['Apparent Temperature (C)'])"
      ],
      "execution_count": 566,
      "outputs": [
        {
          "output_type": "execute_result",
          "data": {
            "text/plain": [
              "<matplotlib.axes._subplots.AxesSubplot at 0x7f53094205c0>"
            ]
          },
          "metadata": {
            "tags": []
          },
          "execution_count": 566
        },
        {
          "output_type": "display_data",
          "data": {
            "image/png": "[encoded data removed]",
            "text/plain": [
              "<Figure size 432x288 with 1 Axes>"
            ]
          },
          "metadata": {
            "tags": []
          }
        }
      ]
    },
    {
      "cell_type": "markdown",
      "metadata": {
        "id": "iF5uSlSa8y9x",
        "colab_type": "text"
      },
      "source": [
        "####Here also we can see that median of Apparent Temperature and Temperature are nearly equal.We can also conclude that there is no ouliers\n"
      ]
    },
    {
      "cell_type": "markdown",
      "metadata": {
        "id": "VLfa-RUp-01i",
        "colab_type": "text"
      },
      "source": [
        "###<u>Humidity</u>"
      ]
    },
    {
      "cell_type": "code",
      "metadata": {
        "id": "ARSeHVa68xK2",
        "colab_type": "code",
        "colab": {}
      },
      "source": [
        "df['Humidity']=df['Humidity']*100"
      ],
      "execution_count": 0,
      "outputs": []
    },
    {
      "cell_type": "markdown",
      "metadata": {
        "id": "-bwqEefH_dLi",
        "colab_type": "text"
      },
      "source": [
        "####converted humidity to percentage for more understanding"
      ]
    },
    {
      "cell_type": "code",
      "metadata": {
        "id": "GbW7VXDu_YE5",
        "colab_type": "code",
        "colab": {
          "base_uri": "https://localhost:8080/",
          "height": 181
        },
        "outputId": "5fd5958e-219f-4cea-ead7-f80dd03e4512"
      },
      "source": [
        "df['Humidity'].describe()"
      ],
      "execution_count": 518,
      "outputs": [
        {
          "output_type": "execute_result",
          "data": {
            "text/plain": [
              "count    5999.000000\n",
              "mean       77.948825\n",
              "std        17.305135\n",
              "min        27.000000\n",
              "25%        68.000000\n",
              "50%        83.000000\n",
              "75%        92.000000\n",
              "max       100.000000\n",
              "Name: Humidity, dtype: float64"
            ]
          },
          "metadata": {
            "tags": []
          },
          "execution_count": 518
        }
      ]
    },
    {
      "cell_type": "markdown",
      "metadata": {
        "id": "xbEaBFyM_pfT",
        "colab_type": "text"
      },
      "source": [
        "####we can conclude from the above graph that minimum Humidity percentage that has been recorded is 27 % whereas maximum percentage that has calculated is 100 %. percent that  means that the air is totally saturated with water vapor and cannot hold any more, creating the possibility of rain."
      ]
    },
    {
      "cell_type": "code",
      "metadata": {
        "id": "3l8WZpRi_bro",
        "colab_type": "code",
        "colab": {
          "base_uri": "https://localhost:8080/",
          "height": 532
        },
        "outputId": "d85ff8be-02b8-4a0d-c38f-a23531e78943"
      },
      "source": [
        "plt.figure(figsize=(15,8))\n",
        "k=sns.distplot(df['Humidity'],color=\"green\")\n",
        "k.set_title(\"Humidity\")"
      ],
      "execution_count": 519,
      "outputs": [
        {
          "output_type": "execute_result",
          "data": {
            "text/plain": [
              "Text(0.5, 1.0, 'Humidity')"
            ]
          },
          "metadata": {
            "tags": []
          },
          "execution_count": 519
        },
        {
          "output_type": "display_data",
          "data": {
            "image/png": "[encoded data removed]",
            "text/plain": [
              "<Figure size 1080x576 with 1 Axes>"
            ]
          },
          "metadata": {
            "tags": []
          }
        }
      ]
    },
    {
      "cell_type": "markdown",
      "metadata": {
        "id": "f9wGQDdCBQAB",
        "colab_type": "text"
      },
      "source": [
        "####It is visible from the graph that Humidity remains in the range of 85 to 95 percent most of the times."
      ]
    },
    {
      "cell_type": "code",
      "metadata": {
        "id": "emIVMwg8A7zo",
        "colab_type": "code",
        "colab": {
          "base_uri": "https://localhost:8080/",
          "height": 595
        },
        "outputId": "191f0de8-c0cb-42e4-efa1-527d6da22f31"
      },
      "source": [
        "#creating boxplot for the Humidity\n",
        "sns.boxplot(df['Humidity'])"
      ],
      "execution_count": 561,
      "outputs": [
        {
          "output_type": "display_data",
          "data": {
            "image/png": "[encoded data removed]",
            "text/plain": [
              "<Figure size 720x720 with 1 Axes>"
            ]
          },
          "metadata": {
            "tags": []
          }
        }
      ]
    },
    {
      "cell_type": "markdown",
      "metadata": {
        "id": "m29G_XNMCFZe",
        "colab_type": "text"
      },
      "source": [
        "####We can see from the plot the median lies nearly to 82 % .Here we can observe that there are outliers which are affecting the mean value.We can also conclude that almost 66 % of data is less than 84 % of humidity."
      ]
    },
    {
      "cell_type": "markdown",
      "metadata": {
        "id": "7mnO_Tl8DXZS",
        "colab_type": "text"
      },
      "source": [
        "###Wind Speed (km/h)"
      ]
    },
    {
      "cell_type": "code",
      "metadata": {
        "id": "U-Sk86BABvgz",
        "colab_type": "code",
        "colab": {
          "base_uri": "https://localhost:8080/",
          "height": 181
        },
        "outputId": "47ef286e-8eec-4460-abf3-c5853b5fac5e"
      },
      "source": [
        "df['Wind Speed (km/h)'].describe()"
      ],
      "execution_count": 521,
      "outputs": [
        {
          "output_type": "execute_result",
          "data": {
            "text/plain": [
              "count    5999.000000\n",
              "mean       10.007362\n",
              "std         6.536619\n",
              "min         0.000000\n",
              "25%         4.878300\n",
              "50%         9.064300\n",
              "75%        13.395200\n",
              "max        45.933300\n",
              "Name: Wind Speed (km/h), dtype: float64"
            ]
          },
          "metadata": {
            "tags": []
          },
          "execution_count": 521
        }
      ]
    },
    {
      "cell_type": "markdown",
      "metadata": {
        "id": "JaLN2Yh0MDXN",
        "colab_type": "text"
      },
      "source": [
        "####From the above plot we can say that maximum wind speed that has been recorded in Szeged is 45 km/h and minimum which has been recorded is 0 km/h .Wind speed can be zero (calm). Properly calibrated anemometer / anemograph can measure calm and that this data is considered as acceptable."
      ]
    },
    {
      "cell_type": "code",
      "metadata": {
        "id": "ZrKbmlSVDjml",
        "colab_type": "code",
        "colab": {
          "base_uri": "https://localhost:8080/",
          "height": 518
        },
        "outputId": "2186fff0-1096-44d7-94aa-86f66af0056e"
      },
      "source": [
        "plt.figure(figsize=(15,8))\n",
        "sns.distplot(df['Wind Speed (km/h)'],color='red')"
      ],
      "execution_count": 522,
      "outputs": [
        {
          "output_type": "execute_result",
          "data": {
            "text/plain": [
              "<matplotlib.axes._subplots.AxesSubplot at 0x7f530a40aa20>"
            ]
          },
          "metadata": {
            "tags": []
          },
          "execution_count": 522
        },
        {
          "output_type": "display_data",
          "data": {
            "image/png": "[encoded data removed]",
            "text/plain": [
              "<Figure size 1080x576 with 1 Axes>"
            ]
          },
          "metadata": {
            "tags": []
          }
        }
      ]
    },
    {
      "cell_type": "markdown",
      "metadata": {
        "id": "zRRMItR1NJ6f",
        "colab_type": "text"
      },
      "source": [
        "####We can predict that average wind speed (km/h) remains in the range of 4 to 12 km/h whereas it looks it is minimum in the range of 18 to 45 km/h"
      ]
    },
    {
      "cell_type": "code",
      "metadata": {
        "id": "MlN_H15qEFhB",
        "colab_type": "code",
        "colab": {
          "base_uri": "https://localhost:8080/",
          "height": 595
        },
        "outputId": "b458d644-acfb-4a24-fd2d-8dc6fcddfa50"
      },
      "source": [
        "plt.subplots(figsize=(10,10))\n",
        "plt.hist(df['Wind Speed (km/h)'], bins = 180,color = 'orange', edgecolor = 'black')\n",
        "plt.show()"
      ],
      "execution_count": 567,
      "outputs": [
        {
          "output_type": "display_data",
          "data": {
            "image/png": "[encoded data removed]",
            "text/plain": [
              "<Figure size 720x720 with 1 Axes>"
            ]
          },
          "metadata": {
            "tags": []
          }
        }
      ]
    },
    {
      "cell_type": "markdown",
      "metadata": {
        "id": "Df8icgxoPaCU",
        "colab_type": "text"
      },
      "source": [
        "####We can say that wind speed (km/h)nearly lies between 4 to 12 km/h"
      ]
    },
    {
      "cell_type": "markdown",
      "metadata": {
        "id": "fH3n6YdAQlLG",
        "colab_type": "text"
      },
      "source": [
        "###<u>Wind Bearing (degrees)</u>"
      ]
    },
    {
      "cell_type": "code",
      "metadata": {
        "id": "Dfjq3z6-NpJg",
        "colab_type": "code",
        "colab": {}
      },
      "source": [
        "#here we converted degress into direction for better understanding\n",
        "df6=df['Wind Bearing (degrees)']/22.5+.5\n",
        "arr=[\"N\",\"NE\",\"E\", \"SE\",\"S\",\"SW\",\"W\",\"NW\"]\n",
        "df6=df6.astype(int)\n",
        "for i in range(len(df6)):\n",
        "  df6.iloc[i]=arr[(df6.iloc[i])%8]\n",
        "df6=df6.to_frame()\n"
      ],
      "execution_count": 0,
      "outputs": []
    },
    {
      "cell_type": "code",
      "metadata": {
        "id": "LSR9A1RTR_Qk",
        "colab_type": "code",
        "colab": {
          "base_uri": "https://localhost:8080/",
          "height": 168
        },
        "outputId": "6a0d09ea-cbcb-4bcc-d71c-b87ed4dab1d3"
      },
      "source": [
        "#To get a brief description about Wind Bearing\n",
        "df6.describe()"
      ],
      "execution_count": 525,
      "outputs": [
        {
          "output_type": "execute_result",
          "data": {
            "text/html": [
              "<div>\n",
              "<style scoped>\n",
              "    .dataframe tbody tr th:only-of-type {\n",
              "        vertical-align: middle;\n",
              "    }\n",
              "\n",
              "    .dataframe tbody tr th {\n",
              "        vertical-align: top;\n",
              "    }\n",
              "\n",
              "    .dataframe thead th {\n",
              "        text-align: right;\n",
              "    }\n",
              "</style>\n",
              "<table border=\"1\" class=\"dataframe\">\n",
              "  <thead>\n",
              "    <tr style=\"text-align: right;\">\n",
              "      <th></th>\n",
              "      <th>Wind Bearing (degrees)</th>\n",
              "    </tr>\n",
              "  </thead>\n",
              "  <tbody>\n",
              "    <tr>\n",
              "      <th>count</th>\n",
              "      <td>5999</td>\n",
              "    </tr>\n",
              "    <tr>\n",
              "      <th>unique</th>\n",
              "      <td>8</td>\n",
              "    </tr>\n",
              "    <tr>\n",
              "      <th>top</th>\n",
              "      <td>NW</td>\n",
              "    </tr>\n",
              "    <tr>\n",
              "      <th>freq</th>\n",
              "      <td>1072</td>\n",
              "    </tr>\n",
              "  </tbody>\n",
              "</table>\n",
              "</div>"
            ],
            "text/plain": [
              "       Wind Bearing (degrees)\n",
              "count                    5999\n",
              "unique                      8\n",
              "top                        NW\n",
              "freq                     1072"
            ]
          },
          "metadata": {
            "tags": []
          },
          "execution_count": 525
        }
      ]
    },
    {
      "cell_type": "markdown",
      "metadata": {
        "id": "m4lSQ67qx17g",
        "colab_type": "text"
      },
      "source": [
        "####In the above analysis we can see that NW direction has most times wind direction that is 1072 times"
      ]
    },
    {
      "cell_type": "code",
      "metadata": {
        "id": "lLLTw-B1aDf6",
        "colab_type": "code",
        "colab": {
          "base_uri": "https://localhost:8080/",
          "height": 566
        },
        "outputId": "6a931ee6-abc3-4424-8944-b0cf03ec3078"
      },
      "source": [
        "#To plot a count plot for checking the distribution \n",
        "plt.figure(figsize=(18,9))\n",
        "df6['Wind Bearing (degrees)'].value_counts().plot.bar(color=('red','blue'))"
      ],
      "execution_count": 526,
      "outputs": [
        {
          "output_type": "execute_result",
          "data": {
            "text/plain": [
              "<matplotlib.axes._subplots.AxesSubplot at 0x7f530b26f5f8>"
            ]
          },
          "metadata": {
            "tags": []
          },
          "execution_count": 526
        },
        {
          "output_type": "display_data",
          "data": {
            "image/png": "[encoded data removed]",
            "text/plain": [
              "<Figure size 1296x648 with 1 Axes>"
            ]
          },
          "metadata": {
            "tags": []
          }
        }
      ]
    },
    {
      "cell_type": "markdown",
      "metadata": {
        "id": "-f8WEERp0M1m",
        "colab_type": "text"
      },
      "source": [
        "####From the above graph we can see that North West,North ,West direction constitutes major direction of speed in Szeged"
      ]
    },
    {
      "cell_type": "markdown",
      "metadata": {
        "id": "3GTNsvQu5fzO",
        "colab_type": "text"
      },
      "source": [
        "###<u>Visibility (km)</u>"
      ]
    },
    {
      "cell_type": "code",
      "metadata": {
        "id": "wQWFFUWY268a",
        "colab_type": "code",
        "colab": {
          "base_uri": "https://localhost:8080/",
          "height": 181
        },
        "outputId": "bb33ac08-6f25-44cb-e718-dca27271d712"
      },
      "source": [
        "df['Visibility (km)'].describe()"
      ],
      "execution_count": 529,
      "outputs": [
        {
          "output_type": "execute_result",
          "data": {
            "text/plain": [
              "count    5999.000000\n",
              "mean        9.476875\n",
              "std         4.038583\n",
              "min         0.000000\n",
              "25%         6.906900\n",
              "50%         9.982000\n",
              "75%        11.270000\n",
              "max        16.100000\n",
              "Name: Visibility (km), dtype: float64"
            ]
          },
          "metadata": {
            "tags": []
          },
          "execution_count": 529
        }
      ]
    },
    {
      "cell_type": "markdown",
      "metadata": {
        "id": "UGbbKI1F53zZ",
        "colab_type": "text"
      },
      "source": [
        "####Here it can be stated that maximum visibility that has been recorded is 16 km approx. whereas minimum visibiltiy that has been calculated is 0 km.Visibility of less than 100 metres (330 ft) is usually reported as zero. In these conditions, roads may be closed, or automatic warning lights and signs may be activated to warn drivers. These have been put in place in certain areas that are subject to repeatedly low visibility, particularly after traffic collisions or pile-ups involving multiple vehicles.A visibility reduction is probably the most apparent symptom of air pollution. Visibility degradation is caused by the absorption and scattering of light by particles and gases in the atmosphere. Absorption of electromagnetic radiation by gases and particles is sometimes the cause of discolorations in the atmosphere but usually does not contribute very significantly to visibility degradation"
      ]
    },
    {
      "cell_type": "code",
      "metadata": {
        "id": "prGRttir3cR9",
        "colab_type": "code",
        "colab": {
          "base_uri": "https://localhost:8080/",
          "height": 532
        },
        "outputId": "b04156ad-e994-4c07-86b4-09ec40ef42db"
      },
      "source": [
        "plt.figure(figsize=(15,8))\n",
        "k=sns.distplot(df['Visibility (km)'],color='red')\n",
        "k.set_title('Visibility (km)')"
      ],
      "execution_count": 535,
      "outputs": [
        {
          "output_type": "execute_result",
          "data": {
            "text/plain": [
              "Text(0.5, 1.0, 'Visibility (km)')"
            ]
          },
          "metadata": {
            "tags": []
          },
          "execution_count": 535
        },
        {
          "output_type": "display_data",
          "data": {
            "image/png": "[encoded data removed]",
            "text/plain": [
              "<Figure size 1080x576 with 1 Axes>"
            ]
          },
          "metadata": {
            "tags": []
          }
        }
      ]
    },
    {
      "cell_type": "markdown",
      "metadata": {
        "id": "z2tMZQtu62qn",
        "colab_type": "text"
      },
      "source": [
        "####Here it can be noted that usuallly Visibility remains nearly equal to 10 to 12.5 km"
      ]
    },
    {
      "cell_type": "code",
      "metadata": {
        "id": "zRmwSRDF6fyF",
        "colab_type": "code",
        "colab": {
          "base_uri": "https://localhost:8080/",
          "height": 287
        },
        "outputId": "3d41138e-37b4-4521-9cdb-c86cbc5650c9"
      },
      "source": [
        "sns.kdeplot(df['Visibility (km)'],shade=True,color='orange')\n",
        "#plt.subplots(figsize=(10,10))\n",
        "#plt.hist(, bins = 180,color = 'orange', edgecolor = 'black')\n",
        "#plt.show()"
      ],
      "execution_count": 559,
      "outputs": [
        {
          "output_type": "execute_result",
          "data": {
            "text/plain": [
              "<matplotlib.axes._subplots.AxesSubplot at 0x7f530a01bf28>"
            ]
          },
          "metadata": {
            "tags": []
          },
          "execution_count": 559
        },
        {
          "output_type": "display_data",
          "data": {
            "image/png": "[encoded data removed]",
            "text/plain": [
              "<Figure size 432x288 with 1 Axes>"
            ]
          },
          "metadata": {
            "tags": []
          }
        }
      ]
    },
    {
      "cell_type": "markdown",
      "metadata": {
        "id": "FbHjQWBM8hwO",
        "colab_type": "text"
      },
      "source": [
        "####This graph also says that maximum times  visibility remains between 10 and  12.5\n"
      ]
    },
    {
      "cell_type": "markdown",
      "metadata": {
        "id": "eTgNaYT99wMV",
        "colab_type": "text"
      },
      "source": [
        "###<u>Pressure (millibars)<u/>"
      ]
    },
    {
      "cell_type": "code",
      "metadata": {
        "id": "uv5CJn4m8b28",
        "colab_type": "code",
        "colab": {
          "base_uri": "https://localhost:8080/",
          "height": 181
        },
        "outputId": "7dba8dde-61bc-45cd-a179-e9eb41db35a4"
      },
      "source": [
        "df['Pressure (millibars)'].describe()"
      ],
      "execution_count": 553,
      "outputs": [
        {
          "output_type": "execute_result",
          "data": {
            "text/plain": [
              "count    5999.000000\n",
              "mean      997.359828\n",
              "std       145.173638\n",
              "min         0.000000\n",
              "25%      1012.060000\n",
              "50%      1016.840000\n",
              "75%      1022.490000\n",
              "max      1045.140000\n",
              "Name: Pressure (millibars), dtype: float64"
            ]
          },
          "metadata": {
            "tags": []
          },
          "execution_count": 553
        }
      ]
    },
    {
      "cell_type": "markdown",
      "metadata": {
        "id": "2vecqt0X-Kw7",
        "colab_type": "text"
      },
      "source": [
        "####Here we can see that the minimum pressure here comes out to be 0 millibars which is not possible.When Pressure outside falls too low, the fluids in our body (Blood) have a higher pressure than outside’s pressure. So we know it well that fluid flows from high to Low pressure zone, now you can visualize all the blood coming out of every vein and blood vessel in our body.\n",
        "\n",
        "####Due to that much low pressure lungs will expand to large and can give lethal damage, every part of body that will have flowing substance of high pressure will try to come out.\n",
        "####In order to make our data preserve we will fill the value 0 millibars with the mean which is 997.35"
      ]
    },
    {
      "cell_type": "code",
      "metadata": {
        "id": "ksce_Iif99zf",
        "colab_type": "code",
        "colab": {}
      },
      "source": [
        "df['Pressure1 (millibars)']=df['Pressure (millibars)'].replace(0.0,997.35)                                                            "
      ],
      "execution_count": 0,
      "outputs": []
    },
    {
      "cell_type": "code",
      "metadata": {
        "id": "UNNMNwhXAAqw",
        "colab_type": "code",
        "colab": {
          "base_uri": "https://localhost:8080/",
          "height": 181
        },
        "outputId": "68860088-0a8b-475c-fc5f-e330c60a945e"
      },
      "source": [
        "df['Pressure1 (millibars)'].describe()"
      ],
      "execution_count": 555,
      "outputs": [
        {
          "output_type": "execute_result",
          "data": {
            "text/plain": [
              "count    5999.000000\n",
              "mean     1017.975164\n",
              "std         9.261947\n",
              "min       996.240000\n",
              "25%      1012.060000\n",
              "50%      1016.840000\n",
              "75%      1022.490000\n",
              "max      1045.140000\n",
              "Name: Pressure1 (millibars), dtype: float64"
            ]
          },
          "metadata": {
            "tags": []
          },
          "execution_count": 555
        }
      ]
    },
    {
      "cell_type": "markdown",
      "metadata": {
        "id": "xJR1gSJZAIne",
        "colab_type": "text"
      },
      "source": [
        "####Now we can see that after updation the minimum pressure becomes 1017 millibars whereas maximum pressure remains the same."
      ]
    },
    {
      "cell_type": "code",
      "metadata": {
        "id": "E2q5EmI9AGIo",
        "colab_type": "code",
        "colab": {
          "base_uri": "https://localhost:8080/",
          "height": 287
        },
        "outputId": "acba9cac-43b4-46d9-9195-c5c18c413df8"
      },
      "source": [
        "sns.kdeplot(df['Pressure1 (millibars)'],color='red',shade=True)"
      ],
      "execution_count": 557,
      "outputs": [
        {
          "output_type": "execute_result",
          "data": {
            "text/plain": [
              "<matplotlib.axes._subplots.AxesSubplot at 0x7f5309816f28>"
            ]
          },
          "metadata": {
            "tags": []
          },
          "execution_count": 557
        },
        {
          "output_type": "display_data",
          "data": {
            "image/png": "[encoded data removed]",
            "text/plain": [
              "<Figure size 432x288 with 1 Axes>"
            ]
          },
          "metadata": {
            "tags": []
          }
        }
      ]
    },
    {
      "cell_type": "markdown",
      "metadata": {
        "id": "KRLJXrAHAf9S",
        "colab_type": "text"
      },
      "source": [
        "####Here we can say that maximum times the Pressure remains at nearly 1002 to 1027 millibars."
      ]
    },
    {
      "cell_type": "markdown",
      "metadata": {
        "id": "PhD1davODDLw",
        "colab_type": "text"
      },
      "source": [
        "###<u>\tDaily Summary</u>"
      ]
    },
    {
      "cell_type": "code",
      "metadata": {
        "id": "vLYX1zIJBYVS",
        "colab_type": "code",
        "colab": {
          "base_uri": "https://localhost:8080/",
          "height": 108
        },
        "outputId": "04539a96-2a2d-4270-a98c-5dd0d64dddfa"
      },
      "source": [
        "#To get a description about the column Daily summary.\n",
        "df['Daily Summary'].describe()"
      ],
      "execution_count": 568,
      "outputs": [
        {
          "output_type": "execute_result",
          "data": {
            "text/plain": [
              "count                                  5999\n",
              "unique                                   58\n",
              "top       Mostly cloudy throughout the day.\n",
              "freq                                    600\n",
              "Name: Daily Summary, dtype: object"
            ]
          },
          "metadata": {
            "tags": []
          },
          "execution_count": 568
        }
      ]
    },
    {
      "cell_type": "markdown",
      "metadata": {
        "id": "m5okeMUQDTPi",
        "colab_type": "text"
      },
      "source": [
        "####Here we can see that that there are 58 unique values and maximum frequency is of Mostly cloudy throughout the day."
      ]
    },
    {
      "cell_type": "markdown",
      "metadata": {
        "id": "peVTelECDtRo",
        "colab_type": "text"
      },
      "source": [
        "####To count the number of times a value has appeared in column Daily Summary."
      ]
    },
    {
      "cell_type": "code",
      "metadata": {
        "id": "ljq5NBqwDSJJ",
        "colab_type": "code",
        "colab": {
          "base_uri": "https://localhost:8080/",
          "height": 1000
        },
        "outputId": "4eaa90c1-0a8a-418d-fe33-482ef99abdb2"
      },
      "source": [
        "df3=df.groupby('Daily Summary').size()\n",
        "print(df3)"
      ],
      "execution_count": 569,
      "outputs": [
        {
          "output_type": "stream",
          "text": [
            "Daily Summary\n",
            "Breezy starting overnight continuing until afternoon and foggy starting in the morning continuing until evening.     24\n",
            "Clear throughout the day.                                                                                            24\n",
            "Foggy in the evening.                                                                                                24\n",
            "Foggy in the morning and breezy starting in the afternoon continuing until night.                                    24\n",
            "Foggy in the morning.                                                                                               288\n",
            "Foggy overnight and breezy in the morning.                                                                           24\n",
            "Foggy overnight.                                                                                                     72\n",
            "Foggy starting in the afternoon continuing until evening.                                                            48\n",
            "Foggy starting in the afternoon.                                                                                     24\n",
            "Foggy starting in the evening continuing until night.                                                                24\n",
            "Foggy starting in the evening.                                                                                       72\n",
            "Foggy starting in the morning continuing until afternoon.                                                            24\n",
            "Foggy starting in the morning continuing until evening.                                                              24\n",
            "Foggy starting overnight continuing until afternoon.                                                                 96\n",
            "Foggy starting overnight continuing until evening.                                                                   48\n",
            "Foggy starting overnight continuing until morning.                                                                  360\n",
            "Foggy starting overnight continuing until night.                                                                     24\n",
            "Foggy starting overnight.                                                                                            24\n",
            "Foggy throughout the day.                                                                                           168\n",
            "Foggy until morning.                                                                                                 48\n",
            "Mostly cloudy starting in the morning.                                                                               96\n",
            "Mostly cloudy starting overnight and breezy in the afternoon.                                                        24\n",
            "Mostly cloudy starting overnight continuing until evening.                                                           48\n",
            "Mostly cloudy starting overnight continuing until night.                                                            168\n",
            "Mostly cloudy starting overnight.                                                                                    72\n",
            "Mostly cloudy throughout the day and breezy in the afternoon.                                                        24\n",
            "Mostly cloudy throughout the day and breezy in the evening.                                                          24\n",
            "Mostly cloudy throughout the day and breezy in the morning.                                                          24\n",
            "Mostly cloudy throughout the day.                                                                                   600\n",
            "Mostly cloudy until afternoon.                                                                                       24\n",
            "Mostly cloudy until evening.                                                                                        144\n",
            "Mostly cloudy until morning.                                                                                         72\n",
            "Mostly cloudy until night and breezy in the afternoon.                                                               24\n",
            "Mostly cloudy until night.                                                                                          455\n",
            "Overcast throughout the day.                                                                                        360\n",
            "Overcast until evening.                                                                                              48\n",
            "Overcast until night.                                                                                                48\n",
            "Partly cloudy in the afternoon.                                                                                      24\n",
            "Partly cloudy in the morning.                                                                                        48\n",
            "Partly cloudy overnight.                                                                                             48\n",
            "Partly cloudy starting in the afternoon continuing until evening.                                                    24\n",
            "Partly cloudy starting in the afternoon continuing until night.                                                      96\n",
            "Partly cloudy starting in the afternoon.                                                                            168\n",
            "Partly cloudy starting in the evening continuing until night.                                                        24\n",
            "Partly cloudy starting in the morning continuing until afternoon.                                                    96\n",
            "Partly cloudy starting in the morning continuing until evening.                                                      72\n",
            "Partly cloudy starting in the morning continuing until night.                                                       120\n",
            "Partly cloudy starting in the morning.                                                                              336\n",
            "Partly cloudy starting overnight continuing until afternoon.                                                         24\n",
            "Partly cloudy starting overnight continuing until morning.                                                           24\n",
            "Partly cloudy starting overnight continuing until night.                                                             48\n",
            "Partly cloudy starting overnight.                                                                                    72\n",
            "Partly cloudy throughout the day and breezy starting in the morning continuing until night.                          24\n",
            "Partly cloudy throughout the day.                                                                                   384\n",
            "Partly cloudy until afternoon.                                                                                       48\n",
            "Partly cloudy until evening.                                                                                        120\n",
            "Partly cloudy until morning.                                                                                         24\n",
            "Partly cloudy until night.                                                                                          456\n",
            "dtype: int64\n"
          ],
          "name": "stdout"
        }
      ]
    },
    {
      "cell_type": "markdown",
      "metadata": {
        "id": "UHOlxOH4D_cg",
        "colab_type": "text"
      },
      "source": [
        "####So we can see that that most of times the weather is Partly cloudy until night and Mostly cloudy until night "
      ]
    },
    {
      "cell_type": "code",
      "metadata": {
        "id": "5IMiHibrD4fd",
        "colab_type": "code",
        "colab": {
          "base_uri": "https://localhost:8080/",
          "height": 1000
        },
        "outputId": "0438c420-f879-48ea-affb-bd758786e220"
      },
      "source": [
        "sns.set(rc={'figure.figsize':(11.7,8.27)})\n",
        "k=sns.countplot(x='Daily Summary',data=df)\n",
        "k.set_xticklabels(k.get_xticklabels(),rotation=90)\n",
        "sns.despine()"
      ],
      "execution_count": 573,
      "outputs": [
        {
          "output_type": "display_data",
          "data": {
            "image/png": "[encoded data removed]",
            "text/plain": [
              "<Figure size 842.4x595.44 with 1 Axes>"
            ]
          },
          "metadata": {
            "tags": []
          }
        }
      ]
    },
    {
      "cell_type": "markdown",
      "metadata": {
        "id": "vB07hNfdGESb",
        "colab_type": "text"
      },
      "source": [
        "####So we can see that that most of times the weather is Partly cloudy until night and Mostly cloudy until night and Mostly cloudy throughout the day"
      ]
    },
    {
      "cell_type": "markdown",
      "metadata": {
        "id": "sWKTNBC_GeBP",
        "colab_type": "text"
      },
      "source": [
        "##<u>Bivariate Analysis</u>"
      ]
    },
    {
      "cell_type": "code",
      "metadata": {
        "id": "tO3MPsjkGiX9",
        "colab_type": "code",
        "colab": {}
      },
      "source": [
        ""
      ],
      "execution_count": 0,
      "outputs": []
    }
  ]
}